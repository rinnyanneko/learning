{
 "cells": [
  {
   "cell_type": "markdown",
   "metadata": {},
   "source": [
    "## 使用 GET 方法在博客來網路書店搜尋特定字串，並爬取單頁所有項目名稱與價格"
   ]
  },
  {
   "cell_type": "markdown",
   "metadata": {},
   "source": [
    "### 本範例欲爬的目標網站：[博客來網路書店](https://www.books.com.tw/)"
   ]
  },
  {
   "cell_type": "code",
   "execution_count": null,
   "metadata": {},
   "outputs": [],
   "source": [
    "#\n",
    "# 可以去掉 python 輸出時，因為軟體版本所引起的警告的警告。\n",
    "#\n",
    "import warnings # 警告模組\n",
    "\n",
    "warnings.filterwarnings('ignore')\n",
    "\n",
    "#==========================================================================================\n",
    "\n",
    "import requests   # Python 中使用 requests 模組建立各種 HTTP 請求，從網頁伺服器上取得想要的資料\n",
    "\n",
    "item = input('請輸入要搜尋的項目：')\n",
    "\n",
    "url = \"http://search.books.com.tw/search/query/key/%s/cat/all\" % item   # key 與 cat 內容可以修改\n",
    "\n",
    "headers = { 'User-Agent':'Mozilla/5.0 (Windows NT 10.0; Win64; x64)\\\n",
    "             AppleWebKit/537.36 (KHTML, like Gecko)\\\n",
    "             Chrome/112.0.0.0 Safari/537.36', \n",
    "          }       # '\\'為續行字符，代表與下一行為同一行的敘述\n",
    "\n",
    "\n",
    "# 注意！注意！ 如果隔一陣子這一個 cell 在執行上有莫名的錯誤發生，特別是連線不通\n",
    "# 的錯誤訊息，多半是與 Chrome/X.Y.Z.W 有關，此時要使用『檢視』或 F12 確認一下\n",
    "# User-Agent: 訊息裡面的 Chrome/X.Y.Z.W 內容為何再做修正\n",
    "\n",
    "res = requests.get(url, headers = headers)     # 博客來書店網站使用的是 http.get() 方法\n",
    "\n",
    "print (res.text)   # 使用 text 屬性將取得博客來書店網站網頁的原始碼呈現出來"
   ]
  },
  {
   "cell_type": "markdown",
   "metadata": {},
   "source": [
    "#### 1. HTML 標籤列表 [[1]](http://web.thu.edu.tw/hzed/www/tag.htm) [[2]](https://www.happycoding.today/posts/27) [[3]](https://www.csie.ntu.edu.tw/~r91112/myDownload/WEB/html.html)<br><br>2. HTML 語法教學 [[1]](http://cc.cust.edu.tw/~ven/100-1.html) [[2]](https://tw.alphacamp.co/blog/html-guide) [[3]](https://htmltutorial.linwebs.tw/1/1-3) [[w3school 自學網]](https://www.w3schools.com/html/default.asp/) [[dofactory HTML 自學網]](https://www.dofactory.com/html)<br><br>3. 認識 HTML, CSS, DOM, JavaScript [[1*]](https://ithelp.ithome.com.tw/articles/10202326) [[2]](https://medium.com/mr-efacani-teatime/%E4%BA%94%E5%88%86%E9%90%98%E8%AA%8D%E8%AD%98css-html-js-2527e3b4ce6e) [[3]](http://blog.ywpu.me/2015/01/21-xmlhtmlxhtmldhtmlhtml-dom.html) [[w3school 自學教材]](https://www.w3schools.com/) [[video]](https://www.youtube.com/watch?v=uDgA8yyCnHo&t=1s&ab_channel=%E5%9B%BE%E7%81%B5%E6%98%9F%E7%90%83TuringPlanet) [[dofactory CSS 自學網]](https://www.dofactory.com/css)<br><br>4. [HTML Reference](https://www.dofactory.com/html/ref)<br><br>5. [CSS Reference](https://www.dofactory.com/css/ref)\n",
    "\n",
    "#### BeautifulSoup4 是一個 Python 的函式庫模組，可以讓開發者僅須撰寫非常少量的程式碼，就可以快速解析網頁 HTML 內碼，從中萃取出使用者有興趣的資料、去蕪存菁，降低網路爬蟲程式的開發門檻、加快程式撰寫速度。\n",
    "\n",
    "#### BeautifulSoup 可以支援的解析器其實不只一種，有 <font color = red>html.parser</font>（Python 內建）、 <font color = red>html5lib</font> 與  <font color = red>lxml</font> 等三種，根據官方文件的推薦，解析速度最快的是 lxml。"
   ]
  },
  {
   "cell_type": "code",
   "execution_count": null,
   "metadata": {},
   "outputs": [],
   "source": [
    "from bs4 import BeautifulSoup    # 必須先裝 BeautifulSoup4\n",
    "\n",
    "soup = BeautifulSoup(res.text, 'html.parser')   # 將 html格式的字串傳進 BeautifulSoup\n",
    "\n",
    "print(soup)              # 直接印結果"
   ]
  },
  {
   "cell_type": "code",
   "execution_count": null,
   "metadata": {},
   "outputs": [],
   "source": [
    "print(soup.prettify())   # 如果想要呈現正常的 html 格式的話，可以多加 prettify()這個函式進來"
   ]
  },
  {
   "cell_type": "code",
   "execution_count": null,
   "metadata": {},
   "outputs": [],
   "source": [
    "print (soup.title.string)    # 取得不同 tag 的內容，例如 'title'，在此亦可用 soup.title.text 來取得標題內容。"
   ]
  },
  {
   "cell_type": "code",
   "execution_count": null,
   "metadata": {},
   "outputs": [],
   "source": [
    "#soup?"
   ]
  },
  {
   "cell_type": "code",
   "execution_count": null,
   "metadata": {},
   "outputs": [],
   "source": [
    "#dir(soup)"
   ]
  },
  {
   "cell_type": "code",
   "execution_count": null,
   "metadata": {},
   "outputs": [],
   "source": [
    "#help(soup.find_all)"
   ]
  },
  {
   "cell_type": "code",
   "execution_count": null,
   "metadata": {},
   "outputs": [],
   "source": [
    "#\n",
    "# 搜尋 class 為 table-td 的 div 節點\n",
    "#\n",
    "all_items = soup.find_all(\"div\", class_ = \"table-td\")    # 撈出所有頁面上相關的 tbody 區塊\n",
    "\n",
    "\n",
    "items = []\n",
    "\n",
    "for item in all_items:\n",
    "    \n",
    "    if item.find(\"div\", class_ = \"box\") != None:\n",
    "        \n",
    "        items.append(item)\n",
    "        \n",
    "\n",
    "# 列印出頁面上書籍資訊的網頁原始碼\n",
    "print('\\n本頁面共有', len(items), '筆資料！\\n')\n",
    "\n",
    "print(items)"
   ]
  },
  {
   "cell_type": "code",
   "execution_count": null,
   "metadata": {},
   "outputs": [],
   "source": [
    "print(type(items), '\\n')   # 以一個 List 型態傳回\n",
    "\n",
    "#\n",
    "# 以下是用來取出第一本書的資料區塊\n",
    "#\n",
    "print(items[0], '\\n')       # List 中的第一個資料 (index = 0)\n",
    "\n",
    "print(type(items[0]), '\\n') # List 中的第一個資料的資料類別型態"
   ]
  },
  {
   "cell_type": "code",
   "execution_count": null,
   "metadata": {},
   "outputs": [],
   "source": [
    "#\n",
    "# 以下是試著來取出網頁上第一本書的書名與價格\n",
    "#\n",
    "\n",
    "print(\"\\n書名：\", items[0].select(\"div.box > a > img\")[0]['alt'])  # 寫法一\n",
    "#print(\"\\n書名：\", items[0].select(\"div.box a img\")[0]['alt'])    # 寫法二\n",
    "\n",
    "print(\"\\n價格：\", items[0].select(\"ul > li > b\")[0].text)   # 寫法一\n",
    "#print(\"\\n價格：\", items[0].select(\"ul.price.clearfix li b\")[0].text)    # 寫法二"
   ]
  },
  {
   "cell_type": "code",
   "execution_count": null,
   "metadata": {},
   "outputs": [],
   "source": [
    "dir(items[0])"
   ]
  },
  {
   "cell_type": "code",
   "execution_count": null,
   "metadata": {},
   "outputs": [],
   "source": [
    "!pip install pandas==1.5.3 --user"
   ]
  },
  {
   "cell_type": "code",
   "execution_count": null,
   "metadata": {},
   "outputs": [],
   "source": [
    "#\n",
    "# 以下是試著來取出網頁上所有書的書名\n",
    "#\n",
    "index = 0\n",
    "\n",
    "for item in items:\n",
    "    \n",
    "    index += 1\n",
    "    \n",
    "    print('%03d  %s\\n' % (index, item.select(\"div.box a img\")[0]['alt']))"
   ]
  },
  {
   "cell_type": "code",
   "execution_count": null,
   "metadata": {},
   "outputs": [],
   "source": [
    "import pandas as pd\n",
    "\n",
    "#\n",
    "# 爬取書名\n",
    "#\n",
    "books = pd.Series()\n",
    "\n",
    "#\n",
    "# 爬取價格\n",
    "#\n",
    "prices = pd.Series()\n",
    "\n",
    "for item in items:\n",
    "\n",
    "    book = item.select(\"div.box a img\")[0]['alt']\n",
    "    \n",
    "    #print(book)\n",
    "    \n",
    "    #加到 pd.Series,(drop = True)用以重設索引值，從 0 開始\n",
    "    books = pd.concat([books, pd.Series([book])]).reset_index(drop = True)\n",
    "    \n",
    "    price = item.select(\"ul > li > b\")\n",
    "    \n",
    "    #print(price)\n",
    "\n",
    "    \n",
    "    if len(price) == 1:  # 只有優惠價格\n",
    "        \n",
    "        # .string 取 tag<strong></strong> 中的文字內容 \n",
    "        prices = pd.concat([prices, pd.Series([price[0].string])]).reset_index(drop = True) \n",
    "        \n",
    "    elif (len(price) == 2): #有打折數 +價格\n",
    "        \n",
    "        # .string 取 tag<strong></strong> 中的文字內容 \n",
    "        prices = pd.concat([prices, pd.Series([price[1].string])]).reset_index(drop = True)\n",
    "        \n",
    "    else:\n",
    "        \n",
    "        break   "
   ]
  },
  {
   "cell_type": "code",
   "execution_count": null,
   "metadata": {},
   "outputs": [],
   "source": [
    "print('\\n\\n')    \n",
    "\n",
    "#\n",
    "# 書名(Pandas Series)資料列的索引值重設由 1 開始\n",
    "#\n",
    "books.index += 1\n",
    "\n",
    "#\n",
    "# 價格(Pandas Series)資料列的索引值重設由 1 開始\n",
    "#\n",
    "prices.index += 1\n",
    "\n",
    "\n",
    "#\n",
    "# 列印出書名資料列與價格資料列的內容\n",
    "#\n",
    "print(books, '\\n\\n')\n",
    "\n",
    "print(prices)"
   ]
  },
  {
   "cell_type": "code",
   "execution_count": null,
   "metadata": {},
   "outputs": [],
   "source": [
    "#\n",
    "# 將書名資料列與價格資料列合併成一個新的表格 (Pandas DataFrame)\n",
    "#\n",
    "df = pd.DataFrame({'書名':books, '價格': prices})\n",
    "\n",
    "df     #df[['書名','價格']]"
   ]
  },
  {
   "cell_type": "markdown",
   "metadata": {},
   "source": [
    "#### Dataframe Styling using Pandas（all good ones）: [[1]](https://mode.com/example-gallery/python_dataframe_styling/)  [[2]](https://zhuanlan.zhihu.com/p/357732790)  [[3]](https://medium.com/@kristina.reut96/you-think-you-know-stylish-tables-ee59beadb487)  [[官網]](https://pandas.pydata.org/pandas-docs/stable/user_guide/style.html)"
   ]
  },
  {
   "cell_type": "code",
   "execution_count": null,
   "metadata": {},
   "outputs": [],
   "source": [
    "#\n",
    "# 用網頁程式技巧來美化視覺\n",
    "#\n",
    "df.style\\\n",
    "    .set_table_styles([ dict(selector = 'th', \\\n",
    "                             props = [('text-align', 'center'),\\\n",
    "                                      ('color', 'Green'), \\\n",
    "                                      (\"font-size\", \"125%\"),\\\n",
    "                                      ('background-color', '#f7f7f9')])])\\\n",
    "    .set_properties(**{'text-align': 'left', \\\n",
    "                       'background-color': 'black', \\\n",
    "                       'max-width': '650px',\\\n",
    "                       'color': 'lawngreen',\\\n",
    "                       'border-color': 'white'})"
   ]
  },
  {
   "cell_type": "code",
   "execution_count": null,
   "metadata": {},
   "outputs": [],
   "source": []
  }
 ],
 "metadata": {
  "anaconda-cloud": {},
  "kernelspec": {
   "display_name": "Python 3 (ipykernel)",
   "language": "python",
   "name": "python3"
  },
  "language_info": {
   "codemirror_mode": {
    "name": "ipython",
    "version": 3
   },
   "file_extension": ".py",
   "mimetype": "text/x-python",
   "name": "python",
   "nbconvert_exporter": "python",
   "pygments_lexer": "ipython3",
   "version": "3.9.13"
  }
 },
 "nbformat": 4,
 "nbformat_minor": 1
}
