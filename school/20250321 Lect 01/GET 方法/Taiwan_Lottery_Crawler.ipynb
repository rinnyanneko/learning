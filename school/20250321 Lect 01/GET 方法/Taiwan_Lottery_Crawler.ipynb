{
 "cells": [
  {
   "cell_type": "code",
   "execution_count": null,
   "id": "89fc0460",
   "metadata": {},
   "outputs": [],
   "source": [
    "import warnings\n",
    "\n",
    "warnings.filterwarnings('ignore')"
   ]
  },
  {
   "cell_type": "code",
   "execution_count": null,
   "id": "39dbb30f",
   "metadata": {},
   "outputs": [],
   "source": [
    "!pip install taiwanlottery --user"
   ]
  },
  {
   "cell_type": "markdown",
   "id": "7bf1b0e4",
   "metadata": {},
   "source": [
    "### 從 [台灣彩劵](https://www.taiwanlottery.com/) 爬取威力彩、大樂透、今彩 539、雙贏彩、3 星彩、4 星彩、38 樂合彩、39 樂合彩、49 樂合彩 9 種彩券遊戲的開獎紀錄。\n",
    "#### 來源：[[Taiwan Lottery Crawler]](https://github.com/stu01509/TaiwanLotteryCrawler)"
   ]
  },
  {
   "cell_type": "code",
   "execution_count": null,
   "id": "c392ca3c",
   "metadata": {},
   "outputs": [],
   "source": [
    "from TaiwanLottery import TaiwanLotteryCrawler\n",
    "\n",
    "lottery = TaiwanLotteryCrawler()\n",
    "\n",
    "result = lottery.lotto649()\n",
    "\n",
    "print(result)"
   ]
  },
  {
   "cell_type": "code",
   "execution_count": null,
   "id": "7ac60dc0",
   "metadata": {},
   "outputs": [],
   "source": []
  }
 ],
 "metadata": {
  "kernelspec": {
   "display_name": "Python 3 (ipykernel)",
   "language": "python",
   "name": "python3"
  },
  "language_info": {
   "codemirror_mode": {
    "name": "ipython",
    "version": 3
   },
   "file_extension": ".py",
   "mimetype": "text/x-python",
   "name": "python",
   "nbconvert_exporter": "python",
   "pygments_lexer": "ipython3",
   "version": "3.9.13"
  }
 },
 "nbformat": 4,
 "nbformat_minor": 5
}
