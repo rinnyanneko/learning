{
 "cells": [
  {
   "cell_type": "markdown",
   "metadata": {},
   "source": [
    "# 網路爬蟲（Web Crawling） vs. 網頁資料擷取（Web Scraping）\n",
    "### 參考資料 [[1*]](https://webscrapingpro.tw/what-is-web-scraping/) [[2*]](http://prowebscraping.com/web-scraping-vs-web-crawling/) [[3*]](https://scrape-it.cloud/blog/web-scraping-what-it-is-and-how-to-use-it)  [[4]](https://dzone.com/articles/web-scraping-vs-web-crawling-whats-the-difference)  [[5]](https://www.webscrapingapi.com/web-scraping-vs-web-crawling/) [[6*]](https://hackmd.io/@amostsai/Bkswe_kOX?type=view) Videos : [[1]](https://www.youtube.com/watch?v=cwZF87qIF7c&ab_channel=Oxylabs) [[2]](https://www.youtube.com/watch?v=sdtnQ_qluIo) [[3]](https://www.youtube.com/watch?v=Vjayaft_1Pc) [[4]](https://www.youtube.com/watch?v=Y3VMhnQXihY)"
   ]
  },
  {
   "cell_type": "markdown",
   "metadata": {},
   "source": [
    "## <span style='font-size:30px;'>&#11088;</span> 網頁伺服器阻擋造成讀取錯誤\n",
    "### <p style=\"line-height:1.6em;\" align=\"justify;\">現在有些網頁會基於安全理由，或是不想讓太多網路爬蟲造訪造成網路流量增加。因此會設計程式阻檔網路爬蟲擷取資訊，例如使用常見的 [User Agent Blocking](https://www.google.com/search?q=User+Agent+Blocking&rlz=1C1EJFA_enTW798TW798&oq=User+Agent+Blocking&aqs=chrome..69i57j69i60l3&sourceid=chrome&ie=UTF-8) 機制來拒絕存取，碰上這些問題就會產生 <font color=red>\"HTTPError : 406\"</font> 的錯誤。</p> <br>本範例的測試網站：[菸屁股（股價分析）](https://stock.wespai.com/sp/2)"
   ]
  },
  {
   "cell_type": "code",
   "execution_count": null,
   "metadata": {},
   "outputs": [],
   "source": [
    "import requests\n",
    "\n",
    "url = 'https://stock.wespai.com/sp/2'\n",
    "\n",
    "htmlfile = requests.get(url) # htmlfile 為對方(目標)網站回傳的 Response物件 \n",
    "\n",
    "#\n",
    "# 如果發送了一個錯誤請求 (一個 4XX 客戶端錯誤，或者 5XX服務器錯誤響應)，\n",
    "# 我們可以通過 Response 物件 .raise_for_status() 方法來拋出異常\n",
    "#\n",
    "htmlfile.raise_for_status()"
   ]
  },
  {
   "cell_type": "markdown",
   "metadata": {},
   "source": [
    "## <span style='font-size:30px;'>&#11088;</span> 使用 Exception 例外的寫法來防止錯誤卡機\n",
    "### HTTP 狀態碼（Status Codes）簡介：[[1]](https://notfalse.net/48/http-status-codes) [[2]](https://developer.mozilla.org/zh-TW/docs/Web/HTTP/Status)\n",
    "### HTTP 協定與標頭簡介：[[1]](https://zh.wikipedia.org/zh-tw/%E8%B6%85%E6%96%87%E6%9C%AC%E4%BC%A0%E8%BE%93%E5%8D%8F%E8%AE%AE) [[2]](https://aws.amazon.com/tw/compare/the-difference-between-https-and-http/) [[3*]](https://developer.mozilla.org/zh-TW/docs/Web/HTTP) [[4*]](https://hackmd.io/@AlienHackMd/rJs7FIfq8)\n",
    "### TCP / IP 通訊協定簡介： [[1]](https://miahsuwork.medium.com/%E7%AC%AC%E5%85%AD%E9%80%B1-%E7%B6%B2%E8%B7%AF%E5%9F%BA%E7%A4%8E-tcp-ip-f89cc09f1f36) [[2]](https://www.tsnien.idv.tw/Network_WebBook/chap13/13-2%20TCP_IP%20%E9%80%9A%E8%A8%8A%E5%8D%94%E5%AE%9A%E5%A0%86%E7%96%8A.html) [[3*]](https://vocus.cc/article/62d3c07bfd89780001a36602) [[4*]](https://linux.vbird.org/linux_server/centos6/0110network_basic.php)"
   ]
  },
  {
   "cell_type": "markdown",
   "metadata": {},
   "source": [
    "<img align=\"left\" src=\"pic/tcpip1.jpg\" width=\"470\"/><img align=\"right\" src=\"pic/tcpip2.jpg\" width=\"500\"/>"
   ]
  },
  {
   "cell_type": "markdown",
   "metadata": {},
   "source": [
    "\n",
    "## <span style='font-size:30px;'>&#11088;</span> 如何阻止搜尋引擎爬（抓取）你的網站?\n",
    "### 參考資料 [[1]](https://www.newscan.com.tw/all-seo/robots-block-search-engines.htm), [[2]](https://www.itread01.com/content/1546963021.html), [[3]](https://segmentfault.com/a/1190000005840672), [[4]](https://blog.csdn.net/qq_34175893/article/details/80185483?utm_medium=distribute.pc_relevant.none-task-blog-BlogCommendFromMachineLearnPai2-3.nonecase&depth_1-utm_source=distribute.pc_relevant.none-task-blog-BlogCommendFromMachineLearnPai2-3.nonecase)"
   ]
  },
  {
   "cell_type": "code",
   "execution_count": null,
   "metadata": {},
   "outputs": [],
   "source": [
    "import requests\n",
    "\n",
    "url = 'https://stock.wespai.com/sp/2'\n",
    "\n",
    "try:\n",
    "\n",
    "    htmlfile = requests.get(url)\n",
    "    \n",
    "    htmlfile.raise_for_status()     # 如果發送了一個錯誤請求 (一個 4XX 客戶端錯誤，或者 5XX服務器錯誤響應)，我們可以通過 Response.raise_for_status() 來拋出異常\n",
    "\n",
    "except Exception as err:            # err 是系統自訂的錯誤訊息\n",
    "\n",
    "    print(\"網頁下載失敗：%s\\n\" % (err))\n",
    "\n",
    "else:\n",
    "\n",
    "    print(\"網頁下載成功\\n\")\n",
    "    \n",
    "finally:\n",
    "    \n",
    "    print(\"連線測試結束！\")"
   ]
  },
  {
   "cell_type": "markdown",
   "metadata": {},
   "source": [
    "![User Agent Process](pic/user-agent-process.png) ![Http Request Response Process](pic/http-basics.jpg)"
   ]
  },
  {
   "cell_type": "markdown",
   "metadata": {},
   "source": [
    "## <span style='font-size:30px;'>&#11088;</span> 如何解決網頁伺服器阻擋造成讀取錯誤？<br><br><span style='font-size:30px;'>&#10152;</span><font color=#FF0080> 使用 scarper 程式偽裝成瀏覽器的方式</font>\n",
    "\n",
    "## 方法：在前面加上與設定 headers 內容\n",
    "### 1. 做功課研究網站攻破策略（ List of User Agent strings ） [[1]](https://deviceatlas.com/blog/list-of-user-agent-strings) [[2]](https://developer.mozilla.org/zh-TW/docs/Web/HTTP/Headers/User-Agent) [[3*]](https://yulun.me/2013/mozilla5-0-always-user-agent-string/)\n",
    "### 2. Chrome 瀏覽器 F12 網頁開發工具教學 [[1]](https://web4theme.com/article/chrome%E7%80%8F%E8%A6%BD%E5%99%A8f12%E7%B6%B2%E9%A0%81%E9%96%8B%E7%99%BC%E5%B7%A5%E5%85%B7%E6%95%99%E5%AD%B8.html) [[2]](https://linyencheng.github.io/2018/12/04/tool-google-developer/) [[video]](https://www.youtube.com/watch?v=u48D0aBycP8)"
   ]
  },
  {
   "cell_type": "code",
   "execution_count": null,
   "metadata": {},
   "outputs": [],
   "source": [
    "import requests\n",
    "\n",
    "#\n",
    "# 使用者自行設定 request headers 內部的 User-Agent 欄位內容\n",
    "# 其目的為欺騙目標伺服器，讓它以為這程式是一個正常的瀏覽器，而非\n",
    "# 爬蟲軟體程式\n",
    "#\n",
    "headers = { 'User-Agent':'Mozilla/5.0 (Windows NT 10.0; Win64; x64)\\\n",
    "             AppleWebKit/537.36 (KHTML, like Gecko)\\\n",
    "             Chrome/83.0.4103.61 Safari/537.36', \n",
    "          }       # '\\' 代表同一行敘述的換行符號\n",
    "\n",
    "url = 'https://stock.wespai.com/sp/2'\n",
    "\n",
    "\n",
    "try:\n",
    "    \n",
    "    #\n",
    "    # 加上 header = headers，使用 HTTP　的　GET 方法\n",
    "    # 來實現 client-server 之間的 requests 傳輸要求 \n",
    "    #\n",
    "    htmlfile = requests.get(url, headers = headers)  \n",
    "    \n",
    "    # 此行必須要加，否則中文可能會變成亂碼\n",
    "    htmlfile.encoding = \"utf-8\"\n",
    "    \n",
    "    # 如有錯誤發生，呼叫例外異常來處理\n",
    "    htmlfile.raise_for_status()\n",
    "\n",
    "except Exception as err:           # err 是系統自訂的錯誤訊息\n",
    "\n",
    "    print(\"網頁下載失敗:\\n %s\" % (err))\n",
    "\n",
    "else:\n",
    "\n",
    "    print(\"\\n網頁下載成功：使用偽裝瀏覽器方式擷取網路資料成功！\")\n",
    "\n",
    "    # 取得網頁內容大小(位元組/Bytes)\n",
    "    print(\"\\n網頁內容大小 = %d 位元組\" % (len(htmlfile.text)))  \n",
    "\n",
    "    # 列印由伺服器端回應的網頁原始碼內容\n",
    "    print('\\n', htmlfile.text, sep = '')      \n",
    "    \n",
    "    print()\n",
    "    \n",
    "    \n",
    "finally:\n",
    "    \n",
    "    print(\"連線測試結束！\")\n",
    "    "
   ]
  },
  {
   "cell_type": "code",
   "execution_count": null,
   "metadata": {},
   "outputs": [],
   "source": [
    "#htmlfile.text.encode().decode('utf-8')"
   ]
  },
  {
   "cell_type": "markdown",
   "metadata": {},
   "source": [
    "### ========== 以下為相關知識的補充 ==============="
   ]
  },
  {
   "cell_type": "markdown",
   "metadata": {},
   "source": [
    "### 進一步認識 Requests - Response 相關指令"
   ]
  },
  {
   "cell_type": "code",
   "execution_count": null,
   "metadata": {},
   "outputs": [],
   "source": [
    "import requests\n",
    "\n",
    "url = 'https://stock.wespai.com/sp/2'\n",
    "\n",
    "#\n",
    "# 連接上目標伺服器網站後，得到傳回來的可呈現在前端網頁上的資料內容 (response)\n",
    "#\n",
    "response = requests.get(url)"
   ]
  },
  {
   "cell_type": "code",
   "execution_count": null,
   "metadata": {},
   "outputs": [],
   "source": [
    "# \n",
    "# 看一下 response 內有什麼方法與屬性\n",
    "#\n",
    "dir(response)"
   ]
  },
  {
   "cell_type": "markdown",
   "metadata": {},
   "source": [
    "### 看一下其它內容如 \n",
    "1. **response.apparent_encoding**\n",
    "1. **response.encoding**\n",
    "1. **response.headers**\n",
    "1. **response.content**\n",
    "1. **response.request**\n",
    "1. **response.status_code**\n",
    "1. **response.text**"
   ]
  },
  {
   "cell_type": "code",
   "execution_count": null,
   "metadata": {},
   "outputs": [],
   "source": [
    "# \n",
    "# 看一下 response.request 內有什麼方法與屬性\n",
    "#\n",
    "dir(response.request)"
   ]
  },
  {
   "cell_type": "code",
   "execution_count": null,
   "metadata": {},
   "outputs": [],
   "source": [
    "# \n",
    "# 看一下 User-Agent 是什麼，以分辨是瀏覽器或是其它軟體程式來發出 requests\n",
    "#\n",
    "response.request.headers"
   ]
  },
  {
   "cell_type": "markdown",
   "metadata": {},
   "source": [
    "**<font color=0000FF>'User-Agent': 'python-requests/XXXXX'</font> 代表是由Python所寫的軟體程式發起的連線！**"
   ]
  },
  {
   "cell_type": "markdown",
   "metadata": {},
   "source": [
    "### 改變 User-Agent 的內容，再重做一次"
   ]
  },
  {
   "cell_type": "code",
   "execution_count": null,
   "metadata": {},
   "outputs": [],
   "source": [
    "import requests\n",
    "\n",
    "#\n",
    "# 模仿成一般桌機、筆電、平板、手機、 \n",
    "# 或其它數位通訊網路設施上的 Web 瀏覽器\n",
    "#\n",
    "headers = {'User-Agent':'Mozilla/5.0'}\n",
    "\n",
    "url = 'https://stock.wespai.com/sp/2'\n",
    "\n",
    "response = requests.get(url, headers = headers)\n",
    "\n",
    "response.status_code\n",
    "\n",
    "response.request.headers"
   ]
  },
  {
   "cell_type": "markdown",
   "metadata": {},
   "source": [
    "## <span style='font-size:30px;'>&#11088;</span> 下列為本主題相關程式設計寫作風格參考範例"
   ]
  },
  {
   "cell_type": "markdown",
   "metadata": {},
   "source": [
    "response = requests.get(download_link, auth=(myUsername, myPassword),  headers={'User-Agent': 'Mozilla'})\n",
    "\n",
    "print (response.encoding)\n",
    "\n",
    "if response.status_code is 200:\n",
    "\n",
    "    body = response.content\n",
    "\n",
    "else:\n",
    "    print (\"Unable to get response with Code : %d \" % (response.status_code))"
   ]
  },
  {
   "cell_type": "markdown",
   "metadata": {},
   "source": [
    "## <span style='font-size:30px;'>&#11088;</span>網頁資料擷取需要知道的 GET 與 POST 通訊傳輸方法\n",
    "<br></br>\n",
    "<img align=\"center\" src=\"pic/getpostRequest.png\" width=\"500\"/>\n",
    "<img align=\"left\" src=\"pic/httprequest.png\" width=\"360\"/>\n",
    "<img align=\"\" src=\"pic/postmethod.png\" width=\"360\"/>"
   ]
  },
  {
   "cell_type": "markdown",
   "metadata": {},
   "source": [
    "<font size=\"3\"><b>\n",
    "        \n",
    "1. **GET / POST 為 Internet TCP/IP 通訊協定中 HTTP 協定下的資料傳輸方法。**<br>\n",
    "2. **使用 GET 的時候，我們直接將要傳送的資料以 Query String 的方式加在要傳送的伺服器 URL 網址後面。範例：[[Google Search]](https://www.google.com) [[博客來]](https://www.books.com.tw)**<br>\n",
    "3. **使用 POST 的時候，是將傳送的資料放在 message-body 裡面，在看不到封包內容的情況下以較為安全的方式傳輸，此外在傳送檔案時會用到 multi-part 編碼，將檔案與其他表單一併放在 body 中傳送。範例：[[台灣高鐵-時刻表與票價查詢]](https://www.thsrc.com.tw/ArticleContent/a3b630bb-1066-4352-a1ef-58c7b4e8ef7c)**<br><br>**參考資料 [[1 重要]](https://ithelp.ithome.com.tw/articles/10251567) [[2]](https://medium.com/@vip131430g/http-%E5%9F%BA%E6%9C%AC%E5%8D%94%E5%AE%9A-%E4%BB%8B%E7%B4%B9-4c3701eda60a) [[3]](https://medium.com/kurt/%E7%B6%B2%E9%A0%81get-%E8%88%87-post-%E5%B7%AE%E7%95%B0-%E7%A7%91%E6%99%AE%E5%A3%B9%E9%BB%9E%E9%80%9A-94cbaa666fdb) [[4]](https://blog.toright.com/posts/1203/%E6%B7%BA%E8%AB%87-http-method%EF%BC%9A%E8%A1%A8%E5%96%AE%E4%B8%AD%E7%9A%84-get-%E8%88%87-post-%E6%9C%89%E4%BB%80%E9%BA%BC%E5%B7%AE%E5%88%A5%EF%BC%9F.html) [[5]](https://jimmy0222.pixnet.net/blog/post/35960095) [[6]](https://kknews.cc/zh-tw/code/gmjky69.html) [[7]](https://www.runoob.com/tags/html-httpmethods.html) [[8 重要]](http://lp43.blogspot.com/2010/07/http-request-method.html) [[9 必看]](https://www.guru99.com/difference-get-post-http.html) [[10 必看]](https://www.geeksforgeeks.org/get-post-requests-using-python/)**\n",
    "</b></font>"
   ]
  }
 ],
 "metadata": {
  "kernelspec": {
   "display_name": "Python 3 (ipykernel)",
   "language": "python",
   "name": "python3"
  },
  "language_info": {
   "codemirror_mode": {
    "name": "ipython",
    "version": 3
   },
   "file_extension": ".py",
   "mimetype": "text/x-python",
   "name": "python",
   "nbconvert_exporter": "python",
   "pygments_lexer": "ipython3",
   "version": "3.10.9"
  }
 },
 "nbformat": 4,
 "nbformat_minor": 2
}
