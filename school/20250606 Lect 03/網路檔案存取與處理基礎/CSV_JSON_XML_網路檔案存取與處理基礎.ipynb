{
 "cells": [
  {
   "cell_type": "markdown",
   "metadata": {},
   "source": [
    "## <ins>檔案存取與處理(基礎)教材與程式範例</ins>\n",
    "1. **<font color=#0000FF>CSV</font> 檔案的讀取與寫入**\n",
    "2. **<font color=#0000FF>JSON</font> 檔案的讀取與寫入**\n",
    "3. **<font color=#0000FF>XML</font> 檔案的讀取與寫入**\n",
    "\n",
    "**重要教學參考網頁：**\n",
    "\n",
    "1. **[程式語言 x 資料格式（轉換程式套件對照表）](https://gist.github.com/dataengeer/86d2e79e1761f8a8dd2fc7fc7e84df45)**\n",
    "1. **Python 資料讀取 CSV、JSON、XML [[1]](https://ithelp.ithome.com.tw/articles/10211950) [[2]](https://pythonbook.cc/chapters/app/processing-csv-files) [[3]](https://vocus.cc/article/62972154fd89780001ac4f01)**\n",
    "1. **[Python 常見的檔案處理應用](https://www.learncodewithmike.com/2020/02/python-files.html)**"
   ]
  },
  {
   "cell_type": "markdown",
   "metadata": {},
   "source": [
    "### CSV檔案的讀取與寫入\n",
    "* **csv（comma separated value）**\n",
    "* **csv 檔案格式使用純文字，由記錄組成，每條記錄被分隔符號分隔為欄位，每條記錄都有同樣的欄位序。**\n",
    "* **可用 excel 打開檔案，但會因為編碼問題出現亂碼。**\n",
    "* **建議用記事本開啟，編碼格式選 UTF-8（Unicode）。**\n",
    "\n",
    "**重要教學參考網頁：**\n",
    "1. **[Python CSV（官網）](https://docs.python.org/3/library/csv.html)**\n",
    "2. **[Python 讀取與寫入 CSV 檔案教學與範例](https://blog.gtwang.org/programming/python-csv-file-reading-and-writing-tutorial/)**\n",
    "3. **[Python CSV tutorial - read write CSV](http://zetcode.com/python/csv/)**\n",
    "4. **[使用 csv 套件讀取 csv 檔案](https://clay-atlas.com/blog/2019/11/05/python-%E7%95%B6%E4%B8%AD%E4%BD%BF%E7%94%A8-csv-%E5%A5%97%E4%BB%B6%E8%AE%80%E5%8F%96-csv-%E6%AA%94%E6%A1%88/)**\n",
    "5. **[IPython Built-in magic commands](https://ipython.org/ipython-doc/stable/interactive/magics.html#cell-magics)**"
   ]
  },
  {
   "cell_type": "code",
   "execution_count": null,
   "metadata": {},
   "outputs": [],
   "source": [
    "import csv"
   ]
  },
  {
   "cell_type": "code",
   "execution_count": null,
   "metadata": {},
   "outputs": [],
   "source": [
    "%ls"
   ]
  },
  {
   "cell_type": "code",
   "execution_count": null,
   "metadata": {},
   "outputs": [],
   "source": [
    "%%file data.csv\n",
    "\"alpha 1\",  100, -1.443\n",
    "\"beat  3\",   12, -0.0934\n",
    "\"gamma 3a\", 192, -0.6621\n",
    "\"delta 2a\",  15, -4.515"
   ]
  },
  {
   "cell_type": "markdown",
   "metadata": {},
   "source": [
    "[\"%%file filename\" 寫入檔案的魔術指令](https://stackoverflow.com/questions/43164284/what-does-file-test-py-mean-in-python)"
   ]
  },
  {
   "cell_type": "code",
   "execution_count": null,
   "metadata": {},
   "outputs": [],
   "source": [
    "%ls"
   ]
  },
  {
   "cell_type": "code",
   "execution_count": null,
   "metadata": {},
   "outputs": [],
   "source": [
    "# 用 Python 內建的 open() 方法開啟 CSV 檔案，而 'csvfile'是檔案物件名稱，\n",
    "# 這名字可以隨便取，一般常見會取名為 'fp'\n",
    "csvfile = open(\"data.csv\", newline = '') "
   ]
  },
  {
   "cell_type": "code",
   "execution_count": null,
   "metadata": {},
   "outputs": [],
   "source": [
    "dir(csv)"
   ]
  },
  {
   "cell_type": "code",
   "execution_count": null,
   "metadata": {},
   "outputs": [],
   "source": [
    "help(csv.reader)"
   ]
  },
  {
   "cell_type": "code",
   "execution_count": null,
   "metadata": {},
   "outputs": [],
   "source": [
    "r = csv.reader(csvfile)  # 一次性讀出\n",
    "\n",
    "type(r)"
   ]
  },
  {
   "cell_type": "code",
   "execution_count": null,
   "metadata": {},
   "outputs": [],
   "source": [
    "print(r)  # _csv.reader 物件是一個疊代器(iterator)"
   ]
  },
  {
   "cell_type": "code",
   "execution_count": null,
   "metadata": {
    "scrolled": true
   },
   "outputs": [],
   "source": [
    "list(r)"
   ]
  },
  {
   "cell_type": "code",
   "execution_count": null,
   "metadata": {
    "scrolled": true
   },
   "outputs": [],
   "source": [
    "list(r)"
   ]
  },
  {
   "cell_type": "code",
   "execution_count": null,
   "metadata": {},
   "outputs": [],
   "source": [
    "csvfile = open(\"data.csv\", newline = '') \n",
    "\n",
    "r = csv.reader(csvfile)  # 一次性讀出\n",
    "\n",
    "for row in r:\n",
    "    \n",
    "    print(row)\n",
    "    "
   ]
  },
  {
   "cell_type": "code",
   "execution_count": null,
   "metadata": {},
   "outputs": [],
   "source": [
    "csvfile.close()    # 關閉檔案；請千萬務必記得，有開啟檔案的動作，就務必要有關閉檔案的動作！"
   ]
  },
  {
   "cell_type": "code",
   "execution_count": null,
   "metadata": {},
   "outputs": [],
   "source": [
    "data = []    # 建立一個空串列，準備存放 data.csv 的每一個橫列(Row)與紀錄(Record)的內容\n",
    "\n",
    "with open('data.csv', newline = '') as csvfile:\n",
    "\n",
    "    r = csv.reader(csvfile)\n",
    "    \n",
    "    for row in r:\n",
    "        \n",
    "        data.append([row[0], int(row[1]), float(row[2])])    \n",
    "        \n",
    "data"
   ]
  },
  {
   "cell_type": "code",
   "execution_count": null,
   "metadata": {},
   "outputs": [],
   "source": [
    "%ls"
   ]
  },
  {
   "cell_type": "code",
   "execution_count": null,
   "metadata": {},
   "outputs": [],
   "source": [
    "import os\n",
    "\n",
    "os.remove('data.csv')     # 套用 OS 的模組來刪除檔案資料"
   ]
  },
  {
   "cell_type": "code",
   "execution_count": null,
   "metadata": {},
   "outputs": [],
   "source": [
    "%ls"
   ]
  },
  {
   "cell_type": "code",
   "execution_count": null,
   "metadata": {},
   "outputs": [],
   "source": [
    "help(open)"
   ]
  },
  {
   "cell_type": "code",
   "execution_count": null,
   "metadata": {},
   "outputs": [],
   "source": [
    "data = [('one', 1, 1.5), ('two', 2, 8.0)]\n",
    "\n",
    "with open('out.csv', 'w', newline = '') as csvfile:\n",
    "\n",
    "    w = csv.writer(csvfile)\n",
    "    \n",
    "    w.writerows(data)"
   ]
  },
  {
   "cell_type": "code",
   "execution_count": null,
   "metadata": {},
   "outputs": [],
   "source": [
    "dir(w)"
   ]
  },
  {
   "cell_type": "code",
   "execution_count": null,
   "metadata": {},
   "outputs": [],
   "source": [
    "%ls"
   ]
  },
  {
   "cell_type": "code",
   "execution_count": null,
   "metadata": {},
   "outputs": [],
   "source": [
    "!type out.csv       "
   ]
  },
  {
   "cell_type": "markdown",
   "metadata": {},
   "source": [
    "#### !type 是指使用 windows 作業系統上命令列的 \"type\" 指令，用來看文字檔案內容；但是如果您的作業系統不是 windows 的話，請改成該作業系統正確的命令列指令。"
   ]
  },
  {
   "cell_type": "code",
   "execution_count": null,
   "metadata": {},
   "outputs": [],
   "source": [
    "import os\n",
    "\n",
    "os.remove('out.csv')"
   ]
  },
  {
   "cell_type": "code",
   "execution_count": null,
   "metadata": {},
   "outputs": [],
   "source": [
    "%ls"
   ]
  },
  {
   "cell_type": "code",
   "execution_count": null,
   "metadata": {},
   "outputs": [],
   "source": [
    "data = [(\"one, \\'real\\' string\", 1, 1.5), ('two', 2, 8.0)]\n",
    "\n",
    "with open('out1.csv', 'w') as csvfile:\n",
    "\n",
    "    w = csv.writer(csvfile)\n",
    "    \n",
    "    w.writerows(data)"
   ]
  },
  {
   "cell_type": "code",
   "execution_count": null,
   "metadata": {},
   "outputs": [],
   "source": [
    "!type out1.csv"
   ]
  },
  {
   "cell_type": "code",
   "execution_count": null,
   "metadata": {},
   "outputs": [],
   "source": [
    "data = [('one, \"real\" string', 1, 1.5), ('two', 2, 8.0)]\n",
    "\n",
    "with open('out2.csv', 'w') as csvfile:\n",
    "\n",
    "    w = csv.writer(csvfile, delimiter = \"|\")\n",
    "    \n",
    "    w.writerows(data)"
   ]
  },
  {
   "cell_type": "code",
   "execution_count": null,
   "metadata": {},
   "outputs": [],
   "source": [
    "!type out2.csv"
   ]
  },
  {
   "cell_type": "code",
   "execution_count": null,
   "metadata": {},
   "outputs": [],
   "source": [
    "import os\n",
    "\n",
    "os.remove('out1.csv')\n",
    "\n",
    "os.remove('out2.csv')"
   ]
  },
  {
   "cell_type": "code",
   "execution_count": null,
   "metadata": {},
   "outputs": [],
   "source": [
    "# 二維表格\n",
    "table = [\n",
    "    ['姓名', '身高', '體重'],\n",
    "    ['王維棟', 175, 60],\n",
    "    ['張雅玲', 165, 47]\n",
    "]\n",
    "\n",
    "with open('out1.csv', 'w', newline = '') as csvfile:\n",
    "    \n",
    "    # 以 tab 分隔欄位，建立 CSV 檔寫入\n",
    "    w = csv.writer(csvfile, delimiter = '\\t')\n",
    "    \n",
    "    # 寫入二維表格\n",
    "    w.writerows(table)"
   ]
  },
  {
   "cell_type": "code",
   "execution_count": null,
   "metadata": {},
   "outputs": [],
   "source": [
    "!type out1.csv"
   ]
  },
  {
   "cell_type": "code",
   "execution_count": null,
   "metadata": {},
   "outputs": [],
   "source": [
    "with open('out2.csv', 'w', newline = '') as csvfile:\n",
    "    \n",
    "    # 定義欄位\n",
    "    fieldnames = ['姓名', '身高', '體重']\n",
    "\n",
    "    # 將 dictionary 寫入 CSV 檔，並以　tab 分隔欄位\n",
    "    w = csv.DictWriter(csvfile, fieldnames = fieldnames, delimiter = '\\t')\n",
    "\n",
    "    # 寫入第一列的欄位名稱\n",
    "    w.writeheader()\n",
    "\n",
    "    # 寫入資料\n",
    "    w.writerow({'姓名': '王維棟', '身高': 175, '體重': 80})\n",
    "    w.writerow({'姓名': '張雅玲', '身高': 165, '體重': 47})"
   ]
  },
  {
   "cell_type": "code",
   "execution_count": null,
   "metadata": {},
   "outputs": [],
   "source": [
    "dir(w)"
   ]
  },
  {
   "cell_type": "code",
   "execution_count": null,
   "metadata": {},
   "outputs": [],
   "source": [
    "!type out2.csv"
   ]
  },
  {
   "cell_type": "code",
   "execution_count": null,
   "metadata": {},
   "outputs": [],
   "source": [
    "import os\n",
    "\n",
    "os.remove('out1.csv')\n",
    "\n",
    "os.remove('out2.csv')"
   ]
  },
  {
   "cell_type": "markdown",
   "metadata": {},
   "source": [
    "### 新北市公共自行車即時資訊　\n",
    "**資料來源：新北市公共自行車租賃系統（YouBike） - 新北市政府資料開放平台：[[1\\*]](https://data.ntpc.gov.tw/datasets/010e5b15-3823-4b20-b401-b1cf000550c5) [[2\\*]](https://data.ntpc.gov.tw/openapi/swagger-ui/index.html?configUrl=%2Fapi%2Fv1%2Fopenapi%2Fswagger%2Fconfig&urls.primaryName=%E6%96%B0%E5%8C%97%E5%B8%82%E6%94%BF%E5%BA%9C%E4%BA%A4%E9%80%9A%E5%B1%80%2864%29) [[3]](https://odportal.tw/dataset/fLRXVTys)** \n",
    "\n",
    "**__主要欄位說明：__**\n",
    "1. **sno：站點代號**\n",
    "2. **sna：場站名稱（中文）**\n",
    "3. **tot：場站總停車格**\n",
    "4. **sbi：場站目前車輛數量**\n",
    "5. **sarea：場站區域（中文）**\n",
    "6. **mday：資料更新時間**\n",
    "7. **lat：緯度**\n",
    "8. **lng：經度**\n",
    "9. **ar：地址（中文）**\n",
    "10. **sareaen：場站區域（英文）**\n",
    "11. **snaen：場站名稱（英文）**\n",
    "12. **aren：地址（英文）**\n",
    "13. **bemp：空位數量**\n",
    "14. **act：全站禁用狀態** "
   ]
  },
  {
   "cell_type": "code",
   "execution_count": null,
   "metadata": {},
   "outputs": [],
   "source": [
    "import csv\n",
    "\n",
    "with open('bike.csv', 'r', encoding = 'utf-8', newline = '') as csvfile:\n",
    "\n",
    "    plots = csv.reader(csvfile, delimiter = ',')\n",
    "    \n",
    "    # 以迴圈輸出指定欄位\n",
    "    for row in plots:\n",
    "    \n",
    "        print(row[0] + \"  \" + row[1] + \"  \" + row[3] + \"  \" + row[5] + \"  \" + row[12])\n",
    "        \n",
    "    csvfile.close()"
   ]
  },
  {
   "cell_type": "markdown",
   "metadata": {},
   "source": [
    "**<font color=#FF0000>[重要]</font> 為什麼不用 utf8 而要用 utf-8-sig 來解碼？ [[1]](https://rayrrr.blogspot.com/2019/11/python-ufeff.html), [[2]](https://codertw.com/%E7%A8%8B%E5%BC%8F%E8%AA%9E%E8%A8%80/365234/), [[3]](https://www.cnblogs.com/Allen-rg/p/10536081.html); 原因是 Windows 系統的 txt 文件在使用 utf-8 編碼保存時會默認在文件開頭插入三個不可見的字符：0xEF 0xBB 0xBF，稱為 <font color=#0000FF>BOM（Byte Order Mark）</font> 字組頭。對此問題的詳細討論參見 [「Windows 文本文件編碼」](https://www.cnblogs.com/hanford/p/6105045.html#_Toc467952592)，其餘請參考 [[1]](https://atedev.wordpress.com/2007/09/19/bom-bom-bom/), [[2]](https://zh.wikipedia.org/wiki/%E4%BD%8D%E5%85%83%E7%B5%84%E9%A0%86%E5%BA%8F%E8%A8%98%E8%99%9F), [[3]](https://sdwh.dev/posts/2021/04/Windows-Notepad-Encoding/), [[4]](https://medium.com/%E5%BD%AD%E6%AD%A6%E8%88%88/utf-8-%E7%9A%84-bom-%E6%AA%94%E9%A0%AD-438190788fa0)**"
   ]
  },
  {
   "cell_type": "code",
   "execution_count": null,
   "metadata": {},
   "outputs": [],
   "source": [
    "#\n",
    "# 以下這一行指令可以直接看到頁首的 utf-8-BOM 亂碼 \\xef\\xbb\\xbf 或是 b'\n",
    "#\n",
    "open('bike.csv', 'rb').read()"
   ]
  },
  {
   "cell_type": "code",
   "execution_count": null,
   "metadata": {},
   "outputs": [],
   "source": [
    "import csv\n",
    "\n",
    "#\n",
    "# 開檔時使用 utf-8-sig 的編碼方式來處理 BOM 字組頭的問題 \n",
    "#\n",
    "with open('bike.csv', 'r', encoding = 'utf-8-sig', newline = '') as csvfile:\n",
    "    \n",
    "    # 讀取 CSV 檔內容，將每一列轉成一個 dictionary\n",
    "    plots = csv.DictReader(csvfile, delimiter = ',')\n",
    "    \n",
    "    # 我們使用以 csv.DictReader 來讀取 CSV 檔案的內容，它會自動把第一列（row）當作欄位的名稱，\n",
    "    # 將第二列以後的每一列轉為 dictionary，這樣我們就可以使用欄位的名稱來存取資料。\n",
    "    for row in plots:\n",
    "        \n",
    "        print(row['sno'] + \"  \" + row['sna'] + \"  \" + row['sbi'] + \"  \" + row['mday'] + \"  \" + row['bemp'])\n",
    "        \n",
    "    csvfile.close()"
   ]
  },
  {
   "cell_type": "markdown",
   "metadata": {},
   "source": [
    "**如何讀取一個在本機內已經被 ZIP 壓縮過的 CSV 資料檔案**"
   ]
  },
  {
   "cell_type": "code",
   "execution_count": null,
   "metadata": {},
   "outputs": [],
   "source": [
    "import csv\n",
    "\n",
    "from io import TextIOWrapper\n",
    "\n",
    "from zipfile import ZipFile\n",
    "\n",
    "with ZipFile('data/新北市公共自行車租賃系統(YouBike2.0).zip') as zf:\n",
    "\n",
    "    with zf.open('010E5B15-3823-4B20-B401-B1CF000550C5-新北市公共自行車租賃系統(YouBike2.0)_863478782032110088.csv', 'r') as csvfile:\n",
    "        \n",
    "        plots = csv.reader(TextIOWrapper(csvfile, 'utf-8-sig'))\n",
    "        \n",
    "        # 以迴圈輸出指定欄位\n",
    "        for row in plots:\n",
    "    \n",
    "            print(row[0] + \"  \" + row[1] + \"  \" + row[3] + \"  \" + row[5] + \"  \" + row[12])\n",
    "        \n",
    "        csvfile.close()"
   ]
  },
  {
   "cell_type": "markdown",
   "metadata": {},
   "source": [
    "* **TextIOWrapper 套件教學相關：[[1]](https://overiq.com/python-101/file-handling-in-python/), [[2]](https://docs.python.org/3/library/io.html), [[3]](https://www.pythonmorsels.com/TextIOWrapper/)** \n",
    "\n",
    "* **zipfile 套件教學相關： [[1]](https://medium.com/seaniap/python-zipfile%E5%B0%8D%E5%A3%93%E7%B8%AE%E6%AA%94%E7%9A%84%E6%93%8D%E4%BD%9C%E6%96%B9%E5%BC%8F-c06116fcdfd9), [[2]](https://stackoverflow.com/questions/26942476/reading-csv-zipped-files-in-python), [[3]](https://stackoverflow.com/questions/59230611/extracting-csv-files-from-multiple-zipped-files-in-python), [[4]](http://wiki.alarmchang.com/index.php?title=Python_%E4%BD%BF%E7%94%A8_zipfile_%E5%B0%87%E6%95%B4%E5%80%8B%E7%9B%AE%E9%8C%84%E9%83%BD%E5%A3%93%E8%B5%B7%E4%BE%86)**"
   ]
  },
  {
   "cell_type": "markdown",
   "metadata": {},
   "source": [
    "**如何下載與讀取一個在網路上其它主機內已經被 ZIP 壓縮過的 CSV 資料檔案**"
   ]
  },
  {
   "cell_type": "code",
   "execution_count": null,
   "metadata": {},
   "outputs": [],
   "source": [
    "import csv\n",
    "from zipfile import ZipFile\n",
    "from io import TextIOWrapper\n",
    "\n",
    "from io import BytesIO\n",
    "import requests # downloading with requests, and import the requests library\n",
    "import urllib   # downloading with urllib, and import the urllib library\n",
    "from urllib.request import urlretrieve  # used to copy a network object to a local file\n",
    "\n",
    "# The following codes are used to disable SSL verification for urlretrieve and also\n",
    "# used to solve \"urlopen error [SSL: CERTIFICATE_VERIFY_FAILED]\" error\n",
    "import ssl\n",
    "ssl._create_default_https_context = ssl._create_unverified_context\n",
    "\n",
    "#\n",
    "# 本案例狀況稍微複雜一些，原因如下：\n",
    "#  1. url位址內無直接的 .zip 檔案名稱\n",
    "#  2. 我們測試之後知道 (1)中真正的 .zip 檔案名稱是 \"新北市公共自行車租賃系統(YouBike).zip\"，\n",
    "#     檔案名稱中內含中文字串更麻煩，因編碼會衍生出複雜的問題，不碰為妙。\n",
    "#  3. \"新北市公共自行車租賃系統(YouBike).zip\"內的 csv 壓縮檔案名稱每五分鐘會變更一次，所以 csv 檔案\n",
    "#     名稱是隨機且不固定的，因此不能像前例一樣，在程式中將檔案名稱寫死。\n",
    "#\n",
    "# 本題解決策略：\n",
    "#  1. 將 url 下載下來的 .zip 檔案複製到 local 的資料夾內，並且寫入到以英文命名(\"csvdata.zip\")的\n",
    "#     zip 檔內，以避掉上述(1)(2)的問題。\n",
    "#  2. 以較為複雜的角度來預想原始下載的 .zip 檔內可能包含超過一個以上的檔案(實際上只有一個 csv資料檔)，\n",
    "#     所以我解壓縮後，用迴圈的方式只挑選 csv 檔案的方式來處理，以避掉上述(3)的問題。\n",
    "#\n",
    "\n",
    "\n",
    "url = 'https://data.ntpc.gov.tw/api/datasets/010e5b15-3823-4b20-b401-b1cf000550c5/csv/zip'\n",
    "\n",
    "   \n",
    "# Copy a network object to a local file\n",
    "urlretrieve(url, \"data/csvdata.zip\")\n",
    "\n",
    "# unzip the target file\n",
    "zip_file = ZipFile(\"data/csvdata.zip\")"
   ]
  },
  {
   "cell_type": "code",
   "execution_count": null,
   "metadata": {},
   "outputs": [],
   "source": [
    "# list the files after unzipping a single file or floder from archive \n",
    "print(zip_file.namelist(), '\\n')\n",
    "\n",
    "for name in zip_file.namelist():\n",
    "    \n",
    "    if name.lower().endswith('.csv'):   # 挑出副檔名是 .csv 的檔案\n",
    "        \n",
    "        with zip_file.open(name, 'r') as csvfile:    # 讀取檔案內容\n",
    "        \n",
    "            plots = csv.reader(TextIOWrapper(csvfile, 'utf-8-sig'))\n",
    "        \n",
    "            # 以迴圈輸出指定欄位\n",
    "            for row in plots:\n",
    "    \n",
    "                print(row[0] + \"  \" + row[1] + \"  \" + row[3] + \"  \" + row[5] + \"  \" + row[12])\n",
    "        \n",
    "            csvfile.close()        "
   ]
  },
  {
   "cell_type": "markdown",
   "metadata": {},
   "source": [
    "### JSON 檔案的讀取與寫入\n",
    "* **JSON（JavaScript Object Notation）。**\n",
    "* **JavaScript 物件表示法是一種輕量級的資料交換語言。**\n",
    "* **以易於讓人閱讀的文字為基礎，用來傳輸由屬性值或者序列性的值組成的資料物件。**\n",
    "* **所使用的副檔名是 .json。**\n",
    "* **JSON 是 JavaScript 的一個子集，但為獨立於語言的文字格式，並且採用了類似於 C 語言家族的一些習慣。**\n",
    "* **由於比 XML 更加小巧，以及瀏覽器的內建快速解析支援，使得其更適用於網路資料傳輸領域。**\n",
    "* **可用線上 JSON 格式化工具，來更方便的對 JSON 資料進行節點尋找和解析。**\n",
    "\n",
    "#### JSON 基本資料類型\n",
    "1. **數值：十進位數，不能有前導 0，可以為負數，可以有小數部分。還可以用 e 或者 E 表示指數部分。不能包含非數值字串，如 NaN。不區分整數與浮點數，JavaScript 用雙精度浮點數表示所有數值。**\n",
    "1. **字串：以雙引號 “” 括起來的零個或多個 Unicode 字元。支援倒斜線 (\\\\) 開始的跳脫字元序列。**\n",
    "1. **布林值：表示為 true 或者 false。**\n",
    "1. **值的有序列表（array）：有序的零個或者多個值。每個值可以為任意類型。序列表使用中括號 \\[ 與 \\] 括起來。元素之間用逗號 '，' 分割。例如：\\[ value, value \\]。**\n",
    "1. **物件（object）：一個無序的「鍵-值對」（pair），其中鍵是字串。建議但不強制要求物件中的鍵是獨一無二的。物件以大括號 \\{ 開始，並以 \\} 結束。鍵-值對之間使用逗號分隔。鍵與值之間用冒號:分割。**\n",
    "1. **null 類型：值寫為 null。**\n",
    "\n",
    "**重要教學參考網頁：**\n",
    "1. **[Python JSON（官網）](https://docs.python.org/3/library/json.html)**\n",
    "1. **[Python JSON（首推薦）](https://www.w3schools.com/python/python_json.asp), [副站](https://www.runoob.com/python3/python3-json.html)**\n",
    "1. **[Python JSON（英文網站）](https://pynative.com/python-json/)**\n",
    "1. **[Python 如何處理 JSON](https://ithelp.ithome.com.tw/articles/10220160)**\n",
    "1. **[Python JSON-Python 入門教學](https://www.youtube.com/watch?v=9N6a-VLBa2I)**\n",
    "1. **Python Json 模組中 dumps()、loads()、dump()、load() 函式介紹：[[1]](https://clay-atlas.com/blog/2019/11/05/python-chinese-tutorial-json-package/?doing_wp_cron=1620192665.2498700618743896484375) [[2]](https://docs.python.org/3/library/json.html) [[3-1]](https://pynative.com/python-json-load-and-loads-to-parse-json/) [[3-2]](https://pynative.com/python-json-dumps-and-dump-for-json-encoding/)**\n",
    "\n",
    "\n",
    "**JSON 線上閱讀器：[[1]](https://jsoneditoronline.org/#left=local.recigi), [[2]](http://jsonviewer.stack.hu/)**"
   ]
  },
  {
   "cell_type": "markdown",
   "metadata": {},
   "source": [
    "**開啟 JSON 檔案並讀取資料**<br></br>\n",
    "**資料來源：新北市公共自行車租賃系統（YouBike） - 新北市政府資料開放平台： [[1]](https://data.ntpc.gov.tw/datasets/71CD1490-A2DF-4198-BEF1-318479775E8A) [[2]](https://data.ntpc.gov.tw/openapi/swagger-ui/index.html?configUrl=%2Fopenapi%2Fswagger%2Fconfig&urls.primaryName=%E6%96%B0%E5%8C%97%E5%B8%82%E6%94%BF%E5%BA%9C%E4%BA%A4%E9%80%9A%E5%B1%80(30))**"
   ]
  },
  {
   "cell_type": "code",
   "execution_count": null,
   "metadata": {},
   "outputs": [],
   "source": [
    "import json\n",
    "\n",
    "with open(\"bike.json\", encoding = 'utf-8-sig') as file:\n",
    "    \n",
    "    data = json.load(file)\n",
    "    \n",
    "    for item in data:      # Json 格式的 item 是以 python 中的字典型式儲存\n",
    "     \n",
    "        print([item['sno'], item['sna'], int(item['tot'])])\n",
    "        \n",
    "    file.close()"
   ]
  },
  {
   "cell_type": "code",
   "execution_count": null,
   "metadata": {},
   "outputs": [],
   "source": [
    "data"
   ]
  },
  {
   "cell_type": "markdown",
   "metadata": {},
   "source": [
    "**將 Python 字典（dict）型別的資料轉成字串（str）型別，並寫入到 JSON 檔案中**"
   ]
  },
  {
   "cell_type": "code",
   "execution_count": null,
   "metadata": {},
   "outputs": [],
   "source": [
    "import json\n",
    "\n",
    "dict_data = {'a':'1111', 'b':'2222', 'c':'3333', 'd':'4444'}  \n",
    "\n",
    "filename = ('json_test1.json')  \n",
    "\n",
    "# 寫法一：使用 dumps()\n",
    "jsObj = json.dumps(dict_data)\n",
    "\n",
    "with open(filename, \"w\") as file:  \n",
    "\n",
    "        file.write(jsObj)  \n",
    "\n",
    "        file.close()  "
   ]
  },
  {
   "cell_type": "code",
   "execution_count": null,
   "metadata": {},
   "outputs": [],
   "source": [
    "import json\n",
    "\n",
    "dict_data = {'a':'1111', 'b':'2222', 'c':'3333', 'd':'4444'}  \n",
    "\n",
    "filename = ('json_test2.json')\n",
    "\n",
    "# 寫法二：使用 dump()   \n",
    "json.dump(dict_data, open(filename, \"w\")) "
   ]
  },
  {
   "cell_type": "code",
   "execution_count": null,
   "metadata": {},
   "outputs": [],
   "source": [
    "import json\n",
    "\n",
    "dict_data = {'a':'1111', 'b':'2222', 'c':'3333', 'd':'4444'}  \n",
    "\n",
    "filename = ('json_test3.json')\n",
    "\n",
    "# 寫法三：使用 dump()\n",
    "with open(filename, 'w') as file:\n",
    "    \n",
    "    json.dump(dict_data, file)\n",
    "    \n",
    "    file.close()    "
   ]
  },
  {
   "cell_type": "markdown",
   "metadata": {},
   "source": [
    "### XML 檔案的讀取與寫入\n",
    "* **XML（eXtensible Markup Language，可延伸標記式語言），是一種標記式語言。**\n",
    "* **標記指電腦所能理解的資訊符號，通過此種標記，電腦之間可以處理包含各種資訊的文章等。**\n",
    "* **被廣泛用來作為跨平台之間互動資料的形式，主要針對資料的內容，通過不同的格式化描述手段可以完成最終的形式表達。**\n",
    "\n",
    "#### XML 的重要特性\n",
    "* **XML 通常用於資料傳送和消息，它存在一些子格式，如 RSS 和 Atom。業界有許多定制化的 XML 格式，例如金融領域。**\n",
    "* **Python 解析 XML 最簡單的方法是使用 __ElementTree__。**\n",
    "\n",
    "#### XML 的範例\n",
    "<br></br>\n",
    "<div><img src=\"pic/xml_parsing.png\" width=\"700\"/></div>\n",
    "<br></br>\n",
    "\n",
    "#### XML 檔案格式與 ElementTree 套件\n",
    "1. __ElementTree()：__ 構建空樹。\n",
    "1. __parse()：__ 讀入 xml 檔案，解析映射到空樹。\n",
    "1. __getroot()：__ 獲取根節點，通過下標可訪問相應的節點。\n",
    "1. __tag：__ 獲取節點名。\n",
    "1. __attrib：__ 獲取節點屬性字典。\n",
    "1. __text：__ 獲取節點文本。\n",
    "1. __find()：__ 返回匹配到節點名的第一個節點。\n",
    "1. __findall()：__ 返回匹配到節點名的所有節點；find()、findall() 兩者都僅限當前節點的一級子節點，都支持 xpath 路徑提取節點。\n",
    "1. __iter()：__ 創建樹反覆運算器，遍歷當前節點的所有子節點，返回匹配到節點名的所有節點。\n",
    "1. __remove()：__ 移除相應的節點。\n",
    "\n",
    "**重要教學參考網頁：**\n",
    "1. **[Python XML（官網）](https://docs.python.org/3/library/xml.etree.elementtree.html)**\n",
    "1. **[Python3 XML 解析](http://www.w3big.com/zh-TW/python3/python3-xml-processing.html)**\n",
    "1. **[Python XML 解析](https://www.itread01.com/study/python-xml.html)**\n",
    "1. **[深入解讀 Python 解析 XML 的幾種方式](https://kknews.cc/zh-tw/news/nmb8j2.html)**\n",
    "\n",
    "\n",
    "#### ElementTree 的使用方法 [[1]](http://jennyli6079633.blogspot.com/2019/01/python-xmlelementtree-and-minidom.html)  [[2]](https://hackmd.io/@top30339/rJYlKYpml?type=view)<br></br>"
   ]
  },
  {
   "cell_type": "markdown",
   "metadata": {},
   "source": [
    "### 程式範例，讀取 menu.xml 的內容並剖析\n",
    "<br></br>\n",
    "<div><img src=\"pic/xml_menu.png\" width=\"400\"/></div>\n",
    "<br></br>"
   ]
  },
  {
   "cell_type": "code",
   "execution_count": null,
   "metadata": {},
   "outputs": [],
   "source": [
    "import xml.etree.ElementTree as et\n",
    "\n",
    "tree = et.ElementTree(file = 'menu.xml')\n",
    "\n",
    "root = tree.getroot()\n",
    "\n",
    "print('root.tag: ', root.tag, '\\n')\n",
    "\n",
    "#\n",
    "# 以迴圈遍歷各 child 節點的子節點（孫節點）並列印 tag 與 attrib 屬性\n",
    "#\n",
    "\n",
    "for child in root:\n",
    "    \n",
    "         print('tag:', child.tag, ', ', 'attributes:', child.attrib, ', ', 'text:', child.text)\n",
    "        \n",
    "         for grandchild in child:\n",
    "                \n",
    "                print('\\ttag:', grandchild.tag, ', ', 'attributes:', grandchild.attrib, ', ', 'text:', grandchild.text)\n",
    "          \n",
    "         print()\n",
    "\n",
    "print()\n",
    "\n",
    "print('菜單選項的數目：', len(root))     # 菜單選項的數目\n",
    "\n",
    "print('早餐選項的數目：', len(root[0]))  # 早餐選項的數目\n",
    "\n",
    "print('午餐選項的數目：', len(root[1]))  # 午餐選項的數目\n",
    "\n",
    "print('晚餐選項的數目：', len(root[2]))  # 晚餐選項的數目"
   ]
  },
  {
   "cell_type": "markdown",
   "metadata": {},
   "source": [
    "### 請自行試著練習完成資料讀取 （JSON, XML） 的程式撰寫\n",
    "**資料來源：新北市公共自行車租賃系統（YouBike） - 新北市政府資料開放平台： [[1]](https://data.ntpc.gov.tw/datasets/010e5b15-3823-4b20-b401-b1cf000550c5) [[2]](https://data.ntpc.gov.tw/openapi/swagger-ui/index.html?configUrl=%2Fapi%2Fv1%2Fopenapi%2Fswagger%2Fconfig&urls.primaryName=%E6%96%B0%E5%8C%97%E5%B8%82%E6%94%BF%E5%BA%9C%E4%BA%A4%E9%80%9A%E5%B1%80%2864%29)** "
   ]
  },
  {
   "cell_type": "code",
   "execution_count": null,
   "metadata": {},
   "outputs": [],
   "source": []
  }
 ],
 "metadata": {
  "kernelspec": {
   "display_name": "Python 3 (ipykernel)",
   "language": "python",
   "name": "python3"
  },
  "language_info": {
   "codemirror_mode": {
    "name": "ipython",
    "version": 3
   },
   "file_extension": ".py",
   "mimetype": "text/x-python",
   "name": "python",
   "nbconvert_exporter": "python",
   "pygments_lexer": "ipython3",
   "version": "3.10.9"
  }
 },
 "nbformat": 4,
 "nbformat_minor": 2
}
