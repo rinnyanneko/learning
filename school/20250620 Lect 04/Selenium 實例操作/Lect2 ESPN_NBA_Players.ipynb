{
 "cells": [
  {
   "cell_type": "markdown",
   "metadata": {},
   "source": [
    "## ESPN NBA 球員個人資料、賽事紀錄與成績排序\n",
    "### 本範例欲爬的目標網站：[ESPN NBA Player Stats](http://www.espn.com/nba/statistics/player/_/stat/assists/sort/avgAssists/)"
   ]
  },
  {
   "cell_type": "markdown",
   "metadata": {},
   "source": [
    "##  ※僅抓取網站主頁球員資料"
   ]
  },
  {
   "cell_type": "code",
   "execution_count": null,
   "metadata": {},
   "outputs": [],
   "source": [
    "# 可以去掉 python 輸出時，因為軟體版本所引起的警告的警告。\n",
    "import warnings\n",
    "\n",
    "warnings.filterwarnings('ignore')"
   ]
  },
  {
   "cell_type": "code",
   "execution_count": null,
   "metadata": {},
   "outputs": [],
   "source": [
    "import requests\n",
    "\n",
    "from bs4 import BeautifulSoup\n",
    "\n",
    "import time"
   ]
  },
  {
   "cell_type": "code",
   "execution_count": null,
   "metadata": {},
   "outputs": [],
   "source": [
    "# 以下兩個 url 位址，請任意二選一\n",
    "\n",
    "#url ='http://www.espn.com/nba/statistics/player/_/stat/assists/sort/avgAssists/'   \n",
    "url = 'https://www.espn.com/nba/stats/player'\n",
    "\n",
    "headers= {'User-Agent': 'Mozilla/5.0'}    # 此行可以省略"
   ]
  },
  {
   "cell_type": "code",
   "execution_count": null,
   "metadata": {},
   "outputs": [],
   "source": [
    "response = requests.get(url, headers = headers)"
   ]
  },
  {
   "cell_type": "code",
   "execution_count": null,
   "metadata": {},
   "outputs": [],
   "source": [
    "response.status_code"
   ]
  },
  {
   "cell_type": "code",
   "execution_count": null,
   "metadata": {},
   "outputs": [],
   "source": [
    "response.text"
   ]
  },
  {
   "cell_type": "code",
   "execution_count": null,
   "metadata": {},
   "outputs": [],
   "source": [
    "import pandas as pd\n",
    "\n",
    "tables = pd.read_html(response.text)\n",
    "\n",
    "print('找出 %02d 個表格' % len(tables))\n",
    "\n",
    "#\n",
    "# 看一下第一個表格內容\n",
    "#\n",
    "print('\\n\\n第一個表格：\\n')\n",
    "\n",
    "df1 = tables[0]\n",
    "\n",
    "df1.index += 1\n",
    "\n",
    "print(df1)"
   ]
  },
  {
   "cell_type": "code",
   "execution_count": null,
   "metadata": {},
   "outputs": [],
   "source": [
    "#\n",
    "# 看一下第二個表格內容\n",
    "#\n",
    "print('\\n\\n第二個表格：\\n')\n",
    "\n",
    "df2 = tables[1]\n",
    "\n",
    "df2.index += 1\n",
    "\n",
    "print(df2)"
   ]
  },
  {
   "cell_type": "code",
   "execution_count": null,
   "metadata": {},
   "outputs": [],
   "source": [
    "#\n",
    "# 將 df1 與 df2 兩個 dataframe(表格)左右水平方向合併成一個新的 dataframe(表格)\n",
    "# 這裡的 sort = False 的目的是要關閉警告訊息\n",
    "#\n",
    "df3 = pd.concat([df1, df2], sort = False, axis = 1)    \n",
    "\n",
    "#\n",
    "# 將 df3 的索引值設為 RK 欄位內的數值資料\n",
    "#\n",
    "df3.set_index('RK', inplace = True)   \n",
    "\n",
    "print(df3, '\\n')"
   ]
  },
  {
   "cell_type": "code",
   "execution_count": null,
   "metadata": {},
   "outputs": [],
   "source": [
    "# 設定在 Jypyter Notebook 中可以看到原表格內的最大欄位數目\n",
    "pd.set_option('display.max.columns', 23)   \n",
    "\n",
    "# 設定在 Jypyter Notebook 中可以看到原表格內的最大列的數目 \n",
    "pd.set_option('display.max.rows', 50)       \n",
    "\n",
    "# 如果要讓上面的 set_option 效果可以呈現的話，一定要如此寫；如使用 print(df3)則無效\n",
    "df3    "
   ]
  },
  {
   "cell_type": "markdown",
   "metadata": {},
   "source": [
    "# ============================================================="
   ]
  },
  {
   "cell_type": "markdown",
   "metadata": {},
   "source": [
    "### <p style=\"line-height:1.6em;\" align=\"justify;\"><font color=blue>※ 以下部分為正式抓取網站上所有頁面上球員的資料動作（2021-22 目前共有 581 位球員，每頁有 50 位球員資料，共計 12 頁！ 請注意，這部分資訊會隨時間動態改變。）</font></p>\n",
    "\n",
    "#### 使用 Selenium Web Scraping 套件<br><br>1. [Selenium with Python 中文手冊](https://selenium-python-zh.readthedocs.io/en/latest/index.html)<br><br>2. [Selenium Chrome Webdriver 下載](https://chromedriver.chromium.org/downloads)<br><br>3. 相關參考 [[1]](https://jzchangmark.wordpress.com/2015/02/26/selenium-%E4%BD%BF%E7%94%A8-chrome-%E7%80%8F%E8%A6%BD%E5%99%A8-webdriver/) [[2]](https://www.youtube.com/watch?v=soPZ4rqlXWI) [[3]](https://medium.com/@bob800530/selenium-1-%E9%96%8B%E5%95%9Fchrome%E7%80%8F%E8%A6%BD%E5%99%A8-21448980dff9) [[4]](https://stackoverflow.max-everyday.com/2018/03/selenium-chrome-webdriver/) [[5]](https://officeguide.cc/windows-python-selenium-automation-scripts-tutorial-examples/)"
   ]
  },
  {
   "cell_type": "code",
   "execution_count": null,
   "metadata": {},
   "outputs": [],
   "source": [
    "# 加裝 selenium\n",
    "!pip install selenium"
   ]
  },
  {
   "cell_type": "markdown",
   "metadata": {},
   "source": [
    "#### <p style=\"line-height:1.6em;\" align=\"justify;\"><font color='FF0000'>切記！以下這一段您使用的版本務必要與現在 Chrome 瀏覽器使用的版本一致，Chrome 的 webdriver 可至 https://chromedriver.chromium.org/downloads 中下載至目前的工作目錄路徑下。</font></p>"
   ]
  },
  {
   "cell_type": "code",
   "execution_count": null,
   "metadata": {},
   "outputs": [],
   "source": [
    "from selenium import webdriver\n",
    "from selenium.webdriver.common.by import By\n",
    "from selenium.webdriver.support.wait import WebDriverWait\n",
    "from selenium.webdriver.support import expected_conditions as EC\n",
    "from selenium.common.exceptions import TimeoutException\n",
    "from selenium.webdriver.chrome.service import Service\n",
    "\n",
    "\n",
    "# 以下兩個 url 位址，請任意二選一\n",
    "\n",
    "#url ='http://www.espn.com/nba/statistics/player/_/stat/assists/sort/avgAssists/'   \n",
    "url = 'https://www.espn.com/nba/stats/player'\n",
    "\n",
    "# 啟動 Chrome Browser， 'chromedriver.exe'與本 notebook 程式在同一路徑之下\n",
    "\n",
    "#browser = webdriver.Chrome()  \n",
    "\n",
    "service = Service(executable_path = './chromedriver.exe')\n",
    "\n",
    "browser = webdriver.Chrome(service = service)\n",
    "\n",
    "\n",
    "# 連接目的地網頁伺服器\n",
    "browser.get(url)   \n",
    "\n",
    "# 設定等待頁面加載完成的隱式等待時間限制\n",
    "Waiting_Timeout = 10   \n",
    "\n",
    "while True:\n",
    "\n",
    "    try:\n",
    "        \n",
    "        # 等待頁面加載完成\n",
    "        button = WebDriverWait(browser, Waiting_Timeout).until(EC.presence_of_element_located((By.LINK_TEXT, 'Show More')))\n",
    "        \n",
    "        # 由 selenium 代替人類按網頁上的 \"Show More\" 按鈕\n",
    "        button.click()\n",
    "        \n",
    "        # 共有 12 頁，第一頁不算，應該會執行按鈕 11 次\n",
    "        print(\"SHOW/LOAD MORE RESULTS button clicked\")  \n",
    "    \n",
    "    except TimeoutException:\n",
    "        \n",
    "        # 最後 10 秒後會遇上 selenium.common.exceptions.TimeoutException\n",
    "        print(\"No more SHOW/LOAD MORE RESULTS button to be clicked\")\n",
    "        \n",
    "        break"
   ]
  },
  {
   "cell_type": "markdown",
   "metadata": {},
   "source": [
    "### 請記得此時不可以關閉 ESPN NBA 網頁的瀏覽器（在本例子中所使用的是 Chrome 瀏覽器）"
   ]
  },
  {
   "cell_type": "code",
   "execution_count": null,
   "metadata": {
    "scrolled": false
   },
   "outputs": [],
   "source": [
    "import pandas as pd\n",
    "\n",
    "tables = pd.read_html(browser.page_source)\n",
    "\n",
    "print('\\n找出 %02d 個表格' % len(tables), '\\n\\n')\n",
    "\n",
    "df1 = tables[0]  # 第一個表格\n",
    "\n",
    "df2 = tables[1]  # 第二個表格\n",
    "\n",
    "#\n",
    "# 將 df1 與 df2 兩個 dataframe(表格)左右水平方向合併成一個新的 dataframe(表格)\n",
    "# 這裡的 sort = False 的目的是要關閉警告訊息\n",
    "#\n",
    "df3 = pd.concat([df1, df2], sort = False, axis = 1)  # sort = False 關閉警告訊息\n",
    "\n",
    "df3.set_index('RK', inplace = True) \n",
    "\n",
    "pd.set_option('display.max.columns', 24)\n",
    "\n",
    "pd.set_option('display.max.rows', None)\n",
    "\n",
    "df3"
   ]
  },
  {
   "cell_type": "code",
   "execution_count": null,
   "metadata": {},
   "outputs": [],
   "source": [
    "# 關閉瀏覽器與其 driver\n",
    "browser.quit()    "
   ]
  },
  {
   "cell_type": "code",
   "execution_count": null,
   "metadata": {},
   "outputs": [],
   "source": [
    "# browser.close() vs browser.quit()\n",
    "# 結論：用 quit() 方法結束連線較為安全、完整與乾淨\n",
    "#\n",
    "\n",
    "print()\n",
    "\n",
    "help(browser.close)\n",
    "\n",
    "print('\\n============================================================\\n')\n",
    "\n",
    "help(browser.quit)"
   ]
  }
 ],
 "metadata": {
  "kernelspec": {
   "display_name": "Python 3 (ipykernel)",
   "language": "python",
   "name": "python3"
  },
  "language_info": {
   "codemirror_mode": {
    "name": "ipython",
    "version": 3
   },
   "file_extension": ".py",
   "mimetype": "text/x-python",
   "name": "python",
   "nbconvert_exporter": "python",
   "pygments_lexer": "ipython3",
   "version": "3.9.13"
  }
 },
 "nbformat": 4,
 "nbformat_minor": 1
}
