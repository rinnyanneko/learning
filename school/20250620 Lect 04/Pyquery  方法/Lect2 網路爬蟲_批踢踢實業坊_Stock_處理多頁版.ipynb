{
 "cells": [
  {
   "cell_type": "markdown",
   "metadata": {},
   "source": [
    "## 在\"批踢踢實業坊(PTT)\"網站抓股市看板上的新聞（爬連續多個頁面）\n",
    "### <p style=\"line-height:1.6em;\" align=\"justify;\">本範例欲爬的目標網站：[[批踢踢實業坊網站]](https://www.ptt.cc/bbs/Stock/index.html)</p>"
   ]
  },
  {
   "cell_type": "markdown",
   "metadata": {},
   "source": [
    "**※ 事前準備，安裝 pyquery 套件**\n",
    "\n",
    "**在 Anaconda 的命令列（即 Anaconda Prompt 的選項，<font color=red>但是請務必以管理員身分執行</font>）中輸入指令 \"<font color=blue>conda install -c anaconda pyquery</font>\" 或是 \"<font color=blue>pip install pyquery</font>\"**"
   ]
  },
  {
   "cell_type": "markdown",
   "metadata": {},
   "source": [
    "#### <p style=\"line-height:1.6em;\" align=\"justify;\">PyQuery 是一個類似於 jQuery 的解析網頁工具，使用 lxml 操作 xml 和 html 文檔，它的語法和 jQuery 很像。和 XPATH 以及 Beautiful Soup 比起來，PyQuery 更加靈活，提供增加節點的 class 信息，移除某個節點，提取文本信息等功能。<br><br>PyQuery 的用法 [[1]](https://www.twblogs.net/a/5c0aba23bd9eee6fb2138dd8) [[2]](https://pythonhosted.org/pyquery/) [[3 重要]](https://pyquery.readthedocs.io/_/downloads/en/latest/pdf/) [[4]](https://kknews.cc/zh-tw/code/6qqlppp.html) [[5*]](https://www.cnblogs.com/chenyangqit/p/16594908.html)</p>"
   ]
  },
  {
   "cell_type": "markdown",
   "metadata": {},
   "source": [
    "### 以下在 Conda 上 install PyQuery 的方式二選一 [[1]](https://gist.github.com/yassineAlouini/bf1a4597ee4ae85f5925ecc39e01e4a4) [[官網]](https://anaconda.org/anaconda/pyquery)"
   ]
  },
  {
   "cell_type": "code",
   "execution_count": null,
   "metadata": {},
   "outputs": [],
   "source": [
    "# Install Method 1 : \n",
    "# Install a pip package in the current Jupyter Kernel\n",
    "\n",
    "import sys\n",
    "\n",
    "!{sys.executable} -m pip install pyquery"
   ]
  },
  {
   "cell_type": "code",
   "execution_count": null,
   "metadata": {},
   "outputs": [],
   "source": [
    "# Install Method 2 : \n",
    "# Install a conda package in the current Jupyter Kernel\n",
    "\n",
    "#import sys\n",
    "#!conda install  --yes --prefix {sys.prefix} pyquery \n",
    "\n",
    "!conda install -c anaconda pyquery"
   ]
  },
  {
   "cell_type": "code",
   "execution_count": null,
   "metadata": {},
   "outputs": [],
   "source": [
    "# 可以去掉 Python 輸出時，因為軟體版本所引起的警告的警告。\n",
    "\n",
    "import warnings\n",
    "\n",
    "warnings.filterwarnings('ignore')"
   ]
  },
  {
   "cell_type": "code",
   "execution_count": null,
   "metadata": {
    "colab": {},
    "colab_type": "code",
    "id": "MildY6vAE5Ul"
   },
   "outputs": [],
   "source": [
    "from pyquery import PyQuery as pq\n",
    "\n",
    "from collections import OrderedDict\n",
    "\n",
    "import pandas as pd"
   ]
  },
  {
   "cell_type": "code",
   "execution_count": null,
   "metadata": {
    "colab": {},
    "colab_type": "code",
    "id": "K_VPAwukE5Ut"
   },
   "outputs": [],
   "source": [
    "#\n",
    "# 開使爬蟲動作\n",
    "#\n",
    "import requests\n",
    "\n",
    "url = 'https://www.ptt.cc/bbs/Stock/index.html'   # 到最新的頁面(此為預設)\n",
    "\n",
    "#url = 'https://www.ptt.cc/bbs/Stock/index8814.html' # 到特定頁面\n",
    "\n",
    "q = pq(requests.get(url).text)     # requests.get() 方法不可以省"
   ]
  },
  {
   "cell_type": "code",
   "execution_count": null,
   "metadata": {
    "colab": {
     "base_uri": "https://localhost:8080/",
     "height": 11325
    },
    "colab_type": "code",
    "executionInfo": {
     "elapsed": 7795,
     "status": "ok",
     "timestamp": 1556843099641,
     "user": {
      "displayName": "HsiangYun Tsao",
      "photoUrl": "https://lh6.googleusercontent.com/-3_qUAFHkQn8/AAAAAAAAAAI/AAAAAAAAAFQ/GhrzQZ0w1oo/s64/photo.jpg",
      "userId": "16007438803119037325"
     },
     "user_tz": -480
    },
    "id": "HcjEt7s9E5Ux",
    "outputId": "64c3ffdf-402a-4453-9028-d2b581d7148b"
   },
   "outputs": [],
   "source": [
    "#\n",
    "# 經過解析後的 q 就是網站的 html DOM Tree\n",
    "#\n",
    "print(q)"
   ]
  },
  {
   "cell_type": "code",
   "execution_count": null,
   "metadata": {},
   "outputs": [],
   "source": [
    "#\n",
    "# 獲取本頁的頁碼，在這裡使用正規表達式\n",
    "#\n",
    "\n",
    "import re\n",
    "\n",
    "#page_no = q('.wide:nth-child(2)')\n",
    "page_no = q('div.btn-group.btn-group-paging')\n",
    "\n",
    "rule = r'href=\"\\/bbs\\/Stock\\/index([0-9]+).html\".+(.)頁'\n",
    "\n",
    "results = re.findall(rule, str(page_no))\n",
    "\n",
    "print(results)"
   ]
  },
  {
   "cell_type": "code",
   "execution_count": null,
   "metadata": {},
   "outputs": [],
   "source": [
    "if len(results) == 2:\n",
    "    \n",
    "    # \n",
    "    # 此情況為所在頁面不是 \"最舊頁面\" 也不是 \" 最新頁面，所以上下頁面均有頁號資訊\n",
    "    # \n",
    "    current_page_no = int(results[0][0]) + 1     # 設定現在所在頁面的號碼\n",
    "\n",
    "elif len(results) == 1 and results[0][1] == '下':\n",
    "\n",
    "    # \n",
    "    # 此情況為所在頁面是 \"最舊頁面\" ，所以只有 \"下\" 頁面有頁號資訊\n",
    "    #    \n",
    "    current_page_no = int(results[0][0]) - 1     # 設定現在所在頁面的號碼\n",
    "\n",
    "elif len(results) == 1 and results[0][1] == '上':\n",
    "\n",
    "    # \n",
    "    # 此情況為所在頁面是 \"最新頁面\" ，所以只有 \"上\" 頁面有頁號資訊\n",
    "    #    \n",
    "    current_page_no = int(results[0][0]) + 1    # 設定現在所在頁面的號碼\n",
    "    \n",
    "print('現在頁面：%d' % current_page_no)"
   ]
  },
  {
   "cell_type": "code",
   "execution_count": null,
   "metadata": {},
   "outputs": [],
   "source": [
    "i = current_page_no\n",
    "\n",
    "q_list = []\n",
    "\n",
    "print()\n",
    "\n",
    "total_pages = int(input(f'請輸入要抓取的頁數(從第 {current_page_no} 頁往舊的頁面)：'))    # 設定抓前面 10 頁的文章資訊\n",
    "\n",
    "print()\n",
    "\n",
    "#\n",
    "# 從最新的頁面往前(舊的頁面)抓 total_pages 頁\n",
    "#\n",
    "for i in range(0, total_pages):\n",
    "    \n",
    "    url = 'https://www.ptt.cc/bbs/Stock/index' + str(current_page_no - i) + '.html'\n",
    "    \n",
    "    print(url)\n",
    "         \n",
    "    q_list.append( pq(requests.get(url).text) )"
   ]
  },
  {
   "cell_type": "code",
   "execution_count": null,
   "metadata": {},
   "outputs": [],
   "source": [
    "#\n",
    "# 重要訣竅：直接使用 print() 方法可列印出目標 URL 網頁內的頁面原始碼\n",
    "#\n",
    "print(q_list[0])    # 試著列印出 q_list 中第一頁的內容"
   ]
  },
  {
   "cell_type": "code",
   "execution_count": null,
   "metadata": {},
   "outputs": [],
   "source": [
    "#\n",
    "# 將每一頁的內容列印在螢幕上呈現，每一頁之間以雙虛線隔開\n",
    "#\n",
    "\n",
    "count = 0\n",
    "\n",
    "for q in q_list:\n",
    "    \n",
    "    count += 1\n",
    "    \n",
    "    print('\\npage', count, '===============================================================\\n')\n",
    "    print(q)\n",
    "    print('\\npage', count, '===============================================================\\n')"
   ]
  },
  {
   "cell_type": "markdown",
   "metadata": {},
   "source": [
    "###  <font color=blue>未完，接下來可參考 \"批踢踢實業坊_Stock_處理單頁版\" 的範例來處理每頁的後續動作</font>"
   ]
  }
 ],
 "metadata": {
  "colab": {
   "collapsed_sections": [],
   "name": "ptt_parser.ipynb",
   "provenance": [],
   "version": "0.3.2"
  },
  "kernelspec": {
   "display_name": "Python 3 (ipykernel)",
   "language": "python",
   "name": "python3"
  },
  "language_info": {
   "codemirror_mode": {
    "name": "ipython",
    "version": 3
   },
   "file_extension": ".py",
   "mimetype": "text/x-python",
   "name": "python",
   "nbconvert_exporter": "python",
   "pygments_lexer": "ipython3",
   "version": "3.10.9"
  }
 },
 "nbformat": 4,
 "nbformat_minor": 1
}
