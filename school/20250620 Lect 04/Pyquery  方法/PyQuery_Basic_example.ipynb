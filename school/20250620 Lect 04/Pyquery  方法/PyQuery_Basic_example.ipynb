{
 "cells": [
  {
   "cell_type": "markdown",
   "id": "5f43d9e7",
   "metadata": {},
   "source": [
    "### PyQuery 學習教材 [[1]](https://www.pyquery.org/pyquery-tutorial/) [[2]](https://scrapingant.com/blog/python-pyquery-parse-html) [[3]](https://zwindr.blogspot.com/2017/12/python-pyquery.html) [[4]](https://scrapingrobot.com/blog/pquery/) [[5*]](https://pyquery.readthedocs.io/en/latest/) [[6*]](https://pyquery.readthedocs.io/_/downloads/en/latest/pdf/)<br></br>BeautifulSoup vs PyQuery [[1]](BeautifulSoup vs PyQuery) [[2]](https://tw.pycon.org/2017/en-us/events/talk/326506774788046936/) [[3]](https://www.pyquery.org/pyquery-vs-python-parsing-libraries/)<br></br>[PyQuery 入門範例](http://www.tastones.com/zh-tw/stackoverflow/python-language/html-parsing/pyquery/)"
   ]
  },
  {
   "cell_type": "code",
   "execution_count": null,
   "id": "9d687c54",
   "metadata": {},
   "outputs": [],
   "source": [
    "from pyquery import PyQuery\n",
    "\n",
    "html = \"\"\"\n",
    "<h1>Sales</h1>\n",
    "<table id=\"table\">\n",
    "<tr>\n",
    "    <td>Lorem</td>\n",
    "    <td>46</td>\n",
    "</tr>\n",
    "<tr>\n",
    "    <td>Ipsum</td>\n",
    "    <td>12</td>\n",
    "</tr>\n",
    "<tr>\n",
    "    <td>Dolor</td>\n",
    "    <td>27</td>\n",
    "</tr>\n",
    "<tr>\n",
    "    <td>Sit</td>\n",
    "    <td>90</td>\n",
    "</tr>\n",
    "</table>\n",
    "\"\"\"\n",
    "\n",
    "doc = PyQuery(html)\n",
    "\n",
    "title = doc('h1').text()\n",
    "\n",
    "print(title)"
   ]
  },
  {
   "cell_type": "code",
   "execution_count": null,
   "id": "600e1a15",
   "metadata": {},
   "outputs": [],
   "source": [
    "table_data = []\n",
    "\n",
    "rows = doc('#table > tr')\n",
    "\n",
    "print(rows)"
   ]
  },
  {
   "cell_type": "code",
   "execution_count": null,
   "id": "f5afb2c0",
   "metadata": {},
   "outputs": [],
   "source": [
    "for row in rows:\n",
    "    \n",
    "    name = PyQuery(row).find('td').eq(0).text()\n",
    "    \n",
    "    value = PyQuery(row).find('td').eq(1).text()\n",
    "\n",
    "    print(\"%s\\t  %s\" % (name, value))"
   ]
  },
  {
   "cell_type": "code",
   "execution_count": null,
   "id": "4b8df1dc",
   "metadata": {},
   "outputs": [],
   "source": []
  }
 ],
 "metadata": {
  "kernelspec": {
   "display_name": "Python 3 (ipykernel)",
   "language": "python",
   "name": "python3"
  },
  "language_info": {
   "codemirror_mode": {
    "name": "ipython",
    "version": 3
   },
   "file_extension": ".py",
   "mimetype": "text/x-python",
   "name": "python",
   "nbconvert_exporter": "python",
   "pygments_lexer": "ipython3",
   "version": "3.9.13"
  }
 },
 "nbformat": 4,
 "nbformat_minor": 5
}
