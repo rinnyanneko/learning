{
 "cells": [
  {
   "cell_type": "markdown",
   "metadata": {},
   "source": [
    "## 在 \"批踢踢實業坊（PTT）\" 網站抓股市看板上的新聞（處理單頁版）\n",
    "### <p style=\"line-height:1.6em;\" align=\"justify;\">本範例欲爬的目標網站：[[批踢踢實業坊網站]](https://www.ptt.cc/bbs/Stock/index.html)</p>"
   ]
  },
  {
   "cell_type": "markdown",
   "metadata": {
    "colab_type": "text",
    "id": "qAmGJ8-SE5Uj"
   },
   "source": [
    "**※ 事前準備，安裝 pyquery 套件**\n",
    "\n",
    "**在 Anaconda 的命令列（即 Anaconda Prompt 的選項，<font color=red>但是請務必以管理員身分執行</font>）中輸入指令 \"<font color=blue>conda install -c anaconda pyquery</font>\" 或是 \"<font color=blue>pip install pyquery</font>\"**"
   ]
  },
  {
   "cell_type": "markdown",
   "metadata": {},
   "source": [
    "#### <p style=\"line-height:1.6em;\" align=\"justify;\">PyQuery 是一個類似於 jQuery 的解析網頁工具，使用 lxml 操作 xml 和 html 文檔，它的語法和 jQuery 很像。和 XPATH 以及 Beautiful Soup 比起來，PyQuery 更加靈活，提供增加節點的 class 信息，移除某個節點，提取文本信息等功能。<br><br>PyQuery 的用法 [[1]](http://www.tastones.com/zh-tw/stackoverflow/python-language/html-parsing/pyquery/) [[2]](https://www.pyquery.org/pyquery-tutorial/) [[3]](https://pythonhosted.org/pyquery/) [[4 重要]](https://pyquery.readthedocs.io/_/downloads/en/latest/pdf/) [[5 入門]](https://kknews.cc/zh-tw/code/6qqlppp.html) [[6*]](https://www.cnblogs.com/chenyangqit/p/16594908.html) [[7*]](https://github.com/leVirve/CrawlerTutorial)</p>"
   ]
  },
  {
   "cell_type": "markdown",
   "metadata": {},
   "source": [
    "### 以下在 Conda 上 install PyQuery 的方式二選一 [[1]](https://gist.github.com/yassineAlouini/bf1a4597ee4ae85f5925ecc39e01e4a4) [[官網]](https://anaconda.org/anaconda/pyquery)"
   ]
  },
  {
   "cell_type": "code",
   "execution_count": null,
   "metadata": {},
   "outputs": [],
   "source": [
    "# Install Method 1 : \n",
    "# Install a pip package in the current Jupyter Kernel\n",
    "\n",
    "import sys\n",
    "\n",
    "!{sys.executable} -m pip install pyquery"
   ]
  },
  {
   "cell_type": "code",
   "execution_count": null,
   "metadata": {},
   "outputs": [],
   "source": [
    "# Install Method 2 : \n",
    "# Install a conda package in the current Jupyter Kernel\n",
    "\n",
    "#import sys\n",
    "#!conda install  --yes --prefix {sys.prefix} pyquery \n",
    "\n",
    "!conda install -c anaconda pyquery"
   ]
  },
  {
   "cell_type": "code",
   "execution_count": null,
   "metadata": {},
   "outputs": [],
   "source": [
    "# 可以去掉 Python 輸出時，因為軟體版本所引起的警告的警告。\n",
    "\n",
    "import warnings\n",
    "\n",
    "warnings.filterwarnings('ignore')"
   ]
  },
  {
   "cell_type": "code",
   "execution_count": null,
   "metadata": {
    "colab": {},
    "colab_type": "code",
    "id": "MildY6vAE5Ul"
   },
   "outputs": [],
   "source": [
    "from pyquery import PyQuery as pq\n",
    "\n",
    "from collections import OrderedDict   # 會對 key 輸入先後順序做排序的字典結構\n",
    "\n",
    "import pandas as pd   # 當成 Python DataScience 的 Excel"
   ]
  },
  {
   "cell_type": "code",
   "execution_count": null,
   "metadata": {
    "colab": {},
    "colab_type": "code",
    "id": "K_VPAwukE5Ut"
   },
   "outputs": [],
   "source": [
    "#\n",
    "# 開始資料擷取的爬蟲動作\n",
    "#\n",
    "\n",
    "import requests\n",
    "\n",
    "#===========================================================\n",
    "#\n",
    "#            以 下 的 目 標 網 址 寫 法 請 二 選 一\n",
    "#\n",
    "#===========================================================\n",
    "#\n",
    "# 方法一： 假設要爬取最新頁面的 \"前\" 一頁\n",
    "#\n",
    "# 注意！注意！\n",
    "# index 後的數字在 PPT 網站上隨時會更改，請找最新看板的前一頁(標示\"上頁\")\n",
    "# 的頁碼數字，再更新以下的目標網址中的 \"indexABCD.html\"\n",
    "# 請注意：index<ABCD>.html 中的 ABCD 要隨時調整成適當的頁碼編號\n",
    "#\n",
    "\n",
    "# 每一次要改與更新 URL address，本例是 2025/06/19 的 PTT Stock 最後倒數第二頁頁碼\n",
    "url = 'https://www.ptt.cc/bbs/Stock/index8944.html'\n",
    "\n",
    "\n",
    "#\n",
    "# 方法二： 與上一例相反，如果只要爬取最新的一頁，就開啟以下的網址 \n",
    "#\n",
    "\n",
    "#url = 'https://www.ptt.cc/bbs/Stock/index.html'\n",
    "\n",
    "\n",
    "#\n",
    "# 直接對網站內容進行解析，並將結果傳回來\n",
    "#\n",
    "\n",
    "q = pq(requests.get(url).text)   # requests.get() 方法不可以省"
   ]
  },
  {
   "cell_type": "markdown",
   "metadata": {},
   "source": [
    "#### HTML Document Object Model [[1*]](https://ithelp.ithome.com.tw/articles/10202689) [[2]](https://medium.com/vicky-notes/dom-%E9%81%B8%E5%8F%96%E7%B6%B2%E9%A0%81%E5%85%83%E7%B4%A0-2c338afd238f) [[3]](https://www.w3schools.com/whatis/whatis_htmldom.asp) [[4 重要]](https://www.runoob.com/htmldom/htmldom-tutorial.html)"
   ]
  },
  {
   "cell_type": "code",
   "execution_count": null,
   "metadata": {
    "colab": {
     "base_uri": "https://localhost:8080/",
     "height": 11325
    },
    "colab_type": "code",
    "executionInfo": {
     "elapsed": 7795,
     "status": "ok",
     "timestamp": 1556843099641,
     "user": {
      "displayName": "HsiangYun Tsao",
      "photoUrl": "https://lh6.googleusercontent.com/-3_qUAFHkQn8/AAAAAAAAAAI/AAAAAAAAAFQ/GhrzQZ0w1oo/s64/photo.jpg",
      "userId": "16007438803119037325"
     },
     "user_tz": -480
    },
    "id": "HcjEt7s9E5Ux",
    "outputId": "64c3ffdf-402a-4453-9028-d2b581d7148b"
   },
   "outputs": [],
   "source": [
    "#\n",
    "# 經過解析後的 q 就是網站的 html DOM(Document Object Model) Tree\n",
    "#\n",
    "print(q)"
   ]
  },
  {
   "cell_type": "code",
   "execution_count": null,
   "metadata": {
    "colab": {},
    "colab_type": "code",
    "id": "_urs0FZ-E5U7"
   },
   "outputs": [],
   "source": [
    "#\n",
    "# 獲取本頁所有標題 作者 推文數資訊\n",
    "#\n",
    "title = q('.title a').text()\n",
    "\n",
    "author = q('.author').text()\n",
    "\n",
    "push = q('.hl.f3').text()\n",
    "\n",
    "push = q('.hl').text()"
   ]
  },
  {
   "cell_type": "code",
   "execution_count": null,
   "metadata": {
    "colab": {
     "base_uri": "https://localhost:8080/",
     "height": 54
    },
    "colab_type": "code",
    "executionInfo": {
     "elapsed": 7774,
     "status": "ok",
     "timestamp": 1556843099644,
     "user": {
      "displayName": "HsiangYun Tsao",
      "photoUrl": "https://lh6.googleusercontent.com/-3_qUAFHkQn8/AAAAAAAAAAI/AAAAAAAAAFQ/GhrzQZ0w1oo/s64/photo.jpg",
      "userId": "16007438803119037325"
     },
     "user_tz": -480
    },
    "id": "LNt-U3JmE5U_",
    "outputId": "92afdbe9-5907-4594-b86f-7f5c90b9c4c8"
   },
   "outputs": [],
   "source": [
    "print(title)"
   ]
  },
  {
   "cell_type": "code",
   "execution_count": null,
   "metadata": {},
   "outputs": [],
   "source": [
    "print(author)"
   ]
  },
  {
   "cell_type": "code",
   "execution_count": null,
   "metadata": {},
   "outputs": [],
   "source": [
    "print(push)"
   ]
  },
  {
   "cell_type": "markdown",
   "metadata": {
    "colab_type": "text",
    "id": "ScWm0e74E5VE"
   },
   "source": [
    "**很明顯這樣的資訊並不是我們要的，因為所有文章的訊息都擠在一起了，所以接下來我們要針對每一篇文章分別爬資訊**"
   ]
  },
  {
   "cell_type": "code",
   "execution_count": null,
   "metadata": {
    "colab": {
     "base_uri": "https://localhost:8080/",
     "height": 530
    },
    "colab_type": "code",
    "executionInfo": {
     "elapsed": 7762,
     "status": "ok",
     "timestamp": 1556843099645,
     "user": {
      "displayName": "HsiangYun Tsao",
      "photoUrl": "https://lh6.googleusercontent.com/-3_qUAFHkQn8/AAAAAAAAAAI/AAAAAAAAAFQ/GhrzQZ0w1oo/s64/photo.jpg",
      "userId": "16007438803119037325"
     },
     "user_tz": -480
    },
    "id": "Ka9TCYOJE5VG",
    "outputId": "347e1688-7750-4aad-f31c-97a407682605"
   },
   "outputs": [],
   "source": [
    "#\n",
    "# 練習一下 - 先取 q('.r-ent') 中第一個 element 區塊來孰悉指令\n",
    "#\n",
    "\n",
    "info = []\n",
    "\n",
    "article = q('.r-ent')[0]    # 針對本業的第一篇推文來解析\n",
    "\n",
    "print('\\n如果沒有重新解析:', article)\n",
    "\n",
    "print('\\n重新解析後:', pq(article))"
   ]
  },
  {
   "cell_type": "markdown",
   "metadata": {},
   "source": [
    "#### <p style=\"line-height:1.6em;\" align=\"justify;\"> OrderedDict（）[[1]](https://ithelp.ithome.com.tw/articles/10193794) [[2]](https://www.796t.com/content/1545492546.html)；OrderedDict 是 dict 的一個子類別，它具有一個很實用的特性就是他會對 key 做排序，而這個排序的依據在於這個 key 被插入的先後順序，而如果更新了某個 key 的value 值並不會影響他在 OrderedDict 中的排序位置，除非這個 key 被刪除並被重新插入，才會從原始的排序位置變成最末位，因為其變成最新插入的一個 key。</p>"
   ]
  },
  {
   "cell_type": "code",
   "execution_count": null,
   "metadata": {
    "colab": {},
    "colab_type": "code",
    "id": "4kLsJ2M6E5VM"
   },
   "outputs": [],
   "source": [
    "#\n",
    "# 獲取每篇文章分別的標題 作者 推文數等資訊\n",
    "#\n",
    "info = []\n",
    "\n",
    "for article in q('.r-ent'):\n",
    "    \n",
    "    #\n",
    "    # 按照 Key 的存放次序（title->author->push）排列的字典型別\n",
    "    #\n",
    "    info_dict = OrderedDict()\n",
    "\n",
    "    #\n",
    "    # 每一篇文章的資訊分別塞到字典裡頭\n",
    "    #\n",
    "    article_q = pq(article)    # 記得要重新用 pq() 再解析一次\n",
    "    \n",
    "    info_dict['title'] = article_q('.title a').text()      # 文章標題\n",
    "    \n",
    "    info_dict['author'] = article_q('.author').text()      # 作者\n",
    "    \n",
    "    info_dict['push'] = article_q('.hl').text()            # 推文數量\n",
    "\n",
    "    #\n",
    "    # 將字典存入 list\n",
    "    #\n",
    "    info.append(info_dict)"
   ]
  },
  {
   "cell_type": "code",
   "execution_count": null,
   "metadata": {},
   "outputs": [],
   "source": [
    "info    # 看一下內容"
   ]
  },
  {
   "cell_type": "code",
   "execution_count": null,
   "metadata": {
    "colab": {},
    "colab_type": "code",
    "id": "DJPMRFyGE5VQ"
   },
   "outputs": [],
   "source": [
    "#\n",
    "# 將 list 轉成 pandas dataframe\n",
    "#\n",
    "data = pd.DataFrame(info)\n",
    "\n",
    "#\n",
    "# 文章索引值改成由 1 開始\n",
    "#\n",
    "data.index += 1\n",
    "\n",
    "#\n",
    "# 將撈出的結果存檔\n",
    "#\n",
    "data.to_csv('ptt_stock_info.csv', encoding = 'utf-8', index = None)"
   ]
  },
  {
   "cell_type": "code",
   "execution_count": null,
   "metadata": {
    "colab": {
     "base_uri": "https://localhost:8080/",
     "height": 204
    },
    "colab_type": "code",
    "executionInfo": {
     "elapsed": 8009,
     "status": "ok",
     "timestamp": 1556843099904,
     "user": {
      "displayName": "HsiangYun Tsao",
      "photoUrl": "https://lh6.googleusercontent.com/-3_qUAFHkQn8/AAAAAAAAAAI/AAAAAAAAAFQ/GhrzQZ0w1oo/s64/photo.jpg",
      "userId": "16007438803119037325"
     },
     "user_tz": -480
    },
    "id": "Dl0qLVnoE5VV",
    "outputId": "cde6d2f1-144a-46b5-9030-251482adfc41"
   },
   "outputs": [],
   "source": [
    "data.head()    # 看一下前五筆的內容"
   ]
  },
  {
   "cell_type": "markdown",
   "metadata": {
    "colab_type": "text",
    "id": "Ib1HQ0OXE5Vb"
   },
   "source": [
    "**現在已經有了每篇文章個別的標題、作者、推文數資訊，那如果想知道每篇文章的推文全文內容該怎麼做呢?**"
   ]
  },
  {
   "cell_type": "code",
   "execution_count": null,
   "metadata": {
    "colab": {},
    "colab_type": "code",
    "id": "4blwnLWOE5Vc"
   },
   "outputs": [],
   "source": [
    "#\n",
    "# 獲取每篇文章的 URL\n",
    "#\n",
    "url_list = []\n",
    "\n",
    "for node in q('.title a'):\n",
    "    \n",
    "    #\n",
    "    # 十分重要：記得要重新用 pq 再解析一次\n",
    "    #\n",
    "    url = 'https://www.ptt.cc' + str(pq(node).attr('href'))  \n",
    "    \n",
    "    #\n",
    "    # 加入到 URL list\n",
    "    #\n",
    "    url_list.append(url)"
   ]
  },
  {
   "cell_type": "code",
   "execution_count": null,
   "metadata": {},
   "outputs": [],
   "source": [
    "url_list    # 看一下內容"
   ]
  },
  {
   "cell_type": "code",
   "execution_count": null,
   "metadata": {
    "colab": {},
    "colab_type": "code",
    "id": "8dHhgIJ3E5Vh"
   },
   "outputs": [],
   "source": [
    "#\n",
    "# 進入每篇文章的 URL 目標網址內以獲得全文的詳細資訊\n",
    "#\n",
    "page_list = []\n",
    "\n",
    "for page in url_list:\n",
    "\n",
    "    page_dict = OrderedDict()\n",
    "\n",
    "    #\n",
    "    # 直接對網站內容進行解析，並將結果傳回來\n",
    "    #\n",
    "    page_q = pq(requests.get(page).text) \n",
    "    \n",
    "    # 擷取作者資訊\n",
    "    page_dict['author'] = page_q('.article-metaline:nth-child(1) .article-meta-value').text()\n",
    "    \n",
    "    #\n",
    "    # 擷取所有讀者評論訊息內容\n",
    "    #\n",
    "    # step 1: 找到字串中的冒號做切割點，切完後的結果是存放至一個串列中\n",
    "    tmp_list1 = page_q('.push-content').text().split(':')   \n",
    "    \n",
    "    # step 2: 刪除串列中第一個物件\n",
    "    del tmp_list1[0] \n",
    "    \n",
    "    # step 3: 刪除將每一個串列內字串物件的前後空白字元\n",
    "    tmp_list2 = []\n",
    "    \n",
    "    for obj in tmp_list1:\n",
    "            \n",
    "            tmp_list2.append(obj.strip())\n",
    "            \n",
    "    \n",
    "    # step 4: 將 tmp_list 剩餘的串列內容存入 page_dict 之中\n",
    "    page_dict['push_content'] = tmp_list2\n",
    "\n",
    "    page_list.append(page_dict)"
   ]
  },
  {
   "cell_type": "code",
   "execution_count": null,
   "metadata": {},
   "outputs": [],
   "source": [
    "page_list[0]    # 看一下第一篇文章的內容"
   ]
  },
  {
   "cell_type": "code",
   "execution_count": null,
   "metadata": {
    "colab": {},
    "colab_type": "code",
    "id": "Qtye8g9QE5Vk"
   },
   "outputs": [],
   "source": [
    "#\n",
    "# 將 list 轉成 Pandas dataframe\n",
    "#\n",
    "page_data = pd.DataFrame(page_list)\n",
    "\n",
    "#\n",
    "# 文章索引值改成由 1 開始\n",
    "#\n",
    "page_data.index += 1\n",
    "\n",
    "#\n",
    "# 將所有文章存入一個 CSV 檔案內做後續文字探勘或情緒分析處理\n",
    "#\n",
    "page_data.to_csv('ptt_stock_pageinfo.csv', encoding = 'utf-8', index = None)"
   ]
  },
  {
   "cell_type": "code",
   "execution_count": null,
   "metadata": {
    "colab": {
     "base_uri": "https://localhost:8080/",
     "height": 204
    },
    "colab_type": "code",
    "executionInfo": {
     "elapsed": 15401,
     "status": "ok",
     "timestamp": 1556843107317,
     "user": {
      "displayName": "HsiangYun Tsao",
      "photoUrl": "https://lh6.googleusercontent.com/-3_qUAFHkQn8/AAAAAAAAAAI/AAAAAAAAAFQ/GhrzQZ0w1oo/s64/photo.jpg",
      "userId": "16007438803119037325"
     },
     "user_tz": -480
    },
    "id": "dFgWrKjZE5Vo",
    "outputId": "0671ad65-4a39-4e50-ea15-99c1cd71e607"
   },
   "outputs": [],
   "source": [
    "page_data.head()    # 看一下前五筆的內容"
   ]
  }
 ],
 "metadata": {
  "colab": {
   "collapsed_sections": [],
   "name": "ptt_parser.ipynb",
   "provenance": [],
   "version": "0.3.2"
  },
  "kernelspec": {
   "display_name": "Python 3 (ipykernel)",
   "language": "python",
   "name": "python3"
  },
  "language_info": {
   "codemirror_mode": {
    "name": "ipython",
    "version": 3
   },
   "file_extension": ".py",
   "mimetype": "text/x-python",
   "name": "python",
   "nbconvert_exporter": "python",
   "pygments_lexer": "ipython3",
   "version": "3.9.13"
  }
 },
 "nbformat": 4,
 "nbformat_minor": 1
}
