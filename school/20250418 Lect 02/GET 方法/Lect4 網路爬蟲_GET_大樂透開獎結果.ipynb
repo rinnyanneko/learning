{
 "cells": [
  {
   "cell_type": "markdown",
   "metadata": {},
   "source": [
    "## 找出台灣彩卷公司大樂透最新一期開獎結果\n",
    "### 本範例欲爬的目標網站：[台灣彩卷官方網站](https://www.taiwanlottery.com/)、 [大樂透各期獎號及開獎結果網站](https://www.taiwanlottery.com/lotto/result/lotto649)"
   ]
  },
  {
   "cell_type": "code",
   "execution_count": null,
   "metadata": {},
   "outputs": [],
   "source": [
    "#\n",
    "# 可以去掉 Python 輸出時，因為軟體版本所引起的警告的警告。\n",
    "#\n",
    "import warnings\n",
    "\n",
    "warnings.filterwarnings('ignore')"
   ]
  },
  {
   "cell_type": "code",
   "execution_count": null,
   "metadata": {},
   "outputs": [],
   "source": [
    "!pip install bs4 --user"
   ]
  },
  {
   "cell_type": "code",
   "execution_count": null,
   "metadata": {},
   "outputs": [],
   "source": [
    "import requests    # Client-Server 網路連線與抓取資料所需要使用的套件\n",
    "\n",
    "import bs4         # 剖析抓下來的網頁資料內容所需要的套件"
   ]
  },
  {
   "cell_type": "code",
   "execution_count": null,
   "metadata": {},
   "outputs": [],
   "source": [
    "def connect_urls(url):\n",
    "       \n",
    "    try:\n",
    "    \n",
    "        response = requests.get(url, timeout = 3)  # 要求建立各種 HTTP 請求，從網頁伺服器上取得想要的資料，最多嘗試3次\n",
    "        \n",
    "        #\n",
    "        # Consider any status other than 2xx an error\n",
    "        # 檢查狀態碼是否 OK，如果顯示 200 就代表沒問題\n",
    "        # 0: 是自己設定的要傳回的錯誤代號，表示連線不正確\n",
    "        # 1: 是自己設定的要傳回的正確代號，表示連線成功\n",
    "        #\n",
    "        if not response.status_code // 100 == 2:\n",
    "            \n",
    "            #  如果有錯誤，則傳回設計過的錯誤訊息字串列與代碼 0\n",
    "            return \"Error: Unexpected response {}\".format(response), 0\n",
    "\n",
    "        # 如果沒有錯誤，則傳回系統預設的回應訊息字串列與代碼 1\n",
    "        return response, 1\n",
    "    \n",
    "    except requests.exceptions.RequestException as e:\n",
    "        \n",
    "        # A serious problem happened, like an SSLError or InvalidURL\n",
    "        return \"Error: {}\".format(e)"
   ]
  },
  {
   "cell_type": "code",
   "execution_count": null,
   "metadata": {},
   "outputs": [],
   "source": [
    "#\n",
    "# 台灣彩劵官方網址（!!! 超重要 !!! 一般台灣彩劵中大樂透開獎紀錄的真實網址位址）\n",
    "#\n",
    "# 1. HOW TO KNOW THIS INFO??? \n",
    "# 2. 要抓特定年份、月份的開獎資料要改裡面的參數\n",
    "#\n",
    "\n",
    "# =======  本段年月輸入的程式碼未做例外錯誤的檢測，實務上必須補上 =========\n",
    "\n",
    "_year = input('請輸入開獎年份（西元四碼年曆）：')\n",
    "\n",
    "_month = input('請輸入開獎月份（1-12）：')\n",
    "\n",
    "print('\\n大樂透開獎的年月資訊：【%s】年【%s】月\\n' % (_year, _month))\n",
    "\n",
    "if int(_month) < 10:\n",
    "    \n",
    "    _month = '0' + _month\n",
    "\n",
    "#======================================================================\n",
    "\n",
    "#\n",
    "# url 內容查看建議要用 F12 -> Network -> Header -> Request URL\n",
    "#\n",
    "#url = 'https://api.taiwanlottery.com/TLCAPIWeB/Lottery/Lotto649Result?period&month=' + _year + '-' + _month + '&pageNum=1&pageSize=50'  # 寫法一\n",
    "url = 'https://api.taiwanlottery.com/TLCAPIWeB/Lottery/Lotto649Result?period&month=' + _year + '-' + _month   # 寫法二\n",
    "\n",
    "print(\"\\n連線網頁位址：'{}'\".format(url))\n",
    "    \n",
    "print(\"\\n網頁下載中 ...\")\n",
    "    \n",
    "res = connect_urls(url)\n",
    "    \n",
    "print(\"\\n連線回應訊息：'{}'\".format(res))\n",
    "    \n",
    "if (len(res) == 2) and (res[1] == 1):\n",
    "        \n",
    "    html = res[0]\n",
    "        \n",
    "    print(\"\\n網頁下載完成\")\n",
    "    \n",
    "elif (len(res) == 2) and (res[1] == 0):\n",
    "                    \n",
    "    print(\"\\n錯誤：網頁下載失敗！ \", res[0])\n",
    "        \n",
    "    raise   # 強制停止程式執行 (manually halt execution)"
   ]
  },
  {
   "cell_type": "code",
   "execution_count": null,
   "metadata": {},
   "outputs": [],
   "source": [
    "html.text"
   ]
  },
  {
   "cell_type": "code",
   "execution_count": null,
   "metadata": {},
   "outputs": [],
   "source": [
    "type(html.text)"
   ]
  },
  {
   "cell_type": "code",
   "execution_count": null,
   "metadata": {},
   "outputs": [],
   "source": [
    "# Python3 code to demonstrate\n",
    "# convert dictionary string to dictionary\n",
    "# using json.loads()\n",
    "import json\n",
    "\n",
    "#using json.loads()\n",
    "# convert dictionary string to dictionary\n",
    "res = json.loads(html.text)\n",
    "\n",
    "res"
   ]
  },
  {
   "cell_type": "markdown",
   "metadata": {},
   "source": [
    "### 由近至遠擷取出每一期的大樂透中獎資訊"
   ]
  },
  {
   "cell_type": "code",
   "execution_count": null,
   "metadata": {},
   "outputs": [],
   "source": [
    "lotterys = res['content']['lotto649Res']\n",
    "\n",
    "lotterys"
   ]
  },
  {
   "cell_type": "code",
   "execution_count": null,
   "metadata": {},
   "outputs": [],
   "source": [
    "print('\\n※ 共有 %02d 期的大樂透中獎資訊！\\n' % len(lotterys))"
   ]
  },
  {
   "cell_type": "markdown",
   "metadata": {},
   "source": [
    "### 每一期大樂透的中獎資訊"
   ]
  },
  {
   "cell_type": "code",
   "execution_count": null,
   "metadata": {},
   "outputs": [],
   "source": [
    "#\n",
    "# 列出含 lotterys 的串列內容 \n",
    "#\n",
    "for i in range(len(lotterys)):                                     \n",
    "\n",
    "    print(lotterys[i], '\\n')"
   ]
  },
  {
   "cell_type": "code",
   "execution_count": null,
   "metadata": {},
   "outputs": [],
   "source": [
    "#\n",
    "# 抓取大樂透開獎日期與期數\n",
    "#\n",
    "for i in range(len(lotterys)):                                     \n",
    "\n",
    "    print('\\n第 %s 期\\n開獎日期：%s\\n獎號：%s\\n特別號：%s\\n' % \n",
    "          (lotterys[i]['period'], \n",
    "          lotterys[i]['lotteryDate'], \n",
    "          \",\".join(str(element) for element in lotterys[i]['drawNumberSize'][:-1]),\n",
    "          lotterys[i]['drawNumberSize'][-1])\n",
    "         )"
   ]
  },
  {
   "cell_type": "markdown",
   "metadata": {},
   "source": [
    "### 再度精煉每一期大樂透中的開獎日期資訊"
   ]
  },
  {
   "cell_type": "code",
   "execution_count": null,
   "metadata": {},
   "outputs": [],
   "source": [
    "# 匯入正規表達式套件\n",
    "import re\n",
    "\n",
    "#\n",
    "# 設定抓取大樂透的開獎日期格式\n",
    "#\n",
    "date_pattern = r'(\\d{4}-\\d{2}-\\d{2})T00:00:00'\n",
    "\n",
    "#\n",
    "# 抓取大樂透開獎日期、期數、獎號、特別號\n",
    "#\n",
    "for i in range(len(lotterys)):                                     \n",
    "    \n",
    "    print('\\n第 %s 期\\n開獎日期：%s\\n獎號：%s\\n特別號：%s\\n' % \n",
    "          (lotterys[i]['period'], \n",
    "          re.search(date_pattern, lotterys[i]['lotteryDate']).group(1), \n",
    "          \",\".join(str(element) for element in lotterys[i]['drawNumberSize'][:-1]),\n",
    "          lotterys[i]['drawNumberSize'][-1])\n",
    "         )"
   ]
  }
 ],
 "metadata": {
  "kernelspec": {
   "display_name": "Python 3 (ipykernel)",
   "language": "python",
   "name": "python3"
  },
  "language_info": {
   "codemirror_mode": {
    "name": "ipython",
    "version": 3
   },
   "file_extension": ".py",
   "mimetype": "text/x-python",
   "name": "python",
   "nbconvert_exporter": "python",
   "pygments_lexer": "ipython3",
   "version": "3.9.13"
  }
 },
 "nbformat": 4,
 "nbformat_minor": 2
}
