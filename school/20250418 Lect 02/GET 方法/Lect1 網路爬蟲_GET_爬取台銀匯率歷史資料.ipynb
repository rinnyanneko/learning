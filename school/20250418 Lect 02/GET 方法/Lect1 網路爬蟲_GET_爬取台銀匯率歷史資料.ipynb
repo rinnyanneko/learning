{
 "cells": [
  {
   "cell_type": "markdown",
   "metadata": {},
   "source": [
    "## 使用 GET 方法來爬取台灣銀行匯率歷史資料\n",
    "### [台灣銀行歷史本行營業時間牌告匯率](https://rate.bot.com.tw/xrt/quote/l6m/USD)"
   ]
  },
  {
   "cell_type": "code",
   "execution_count": null,
   "metadata": {},
   "outputs": [],
   "source": [
    "#\n",
    "# 可以去掉 Python 輸出時，因為軟體版本所引起的警告的警告。\n",
    "#\n",
    "import warnings\n",
    "\n",
    "warnings.filterwarnings('ignore')"
   ]
  },
  {
   "cell_type": "markdown",
   "metadata": {},
   "source": [
    "### HTTP Request / Response 參考資料 [[1]](https://medium.com/@bun.coding/http%E7%9A%84-request-%E5%92%8C-response-546e822033af) [[2]](https://intl.cloud.tencent.com/document/product/570/10364) [[3]](https://ithelp.ithome.com.tw/articles/10299957) [[4]](https://www.oreilly.com/openbook/webclient/ch03.html)"
   ]
  },
  {
   "cell_type": "code",
   "execution_count": null,
   "metadata": {},
   "outputs": [],
   "source": [
    "import requests\n",
    "\n",
    "url_address = 'https://rate.bot.com.tw/xrt/quote/l6m/USD'\n",
    "\n",
    "#\n",
    "# 使用者自訂 http browser request header 中的 user-agent 內容\n",
    "#\n",
    "headers = { 'User-Agent':'Mozilla/5.0 (Windows NT 10.0; Win64; x64)\\\n",
    "             AppleWebKit/537.36 (KHTML, like Gecko)\\\n",
    "             Chrome/83.0.4103.61 Safari/537.36', \n",
    "          }       # '\\'為續行字符，代表與下一行為同一行的敘述\n",
    "\n",
    "res = requests.get(url_address, headers = headers)"
   ]
  },
  {
   "cell_type": "code",
   "execution_count": null,
   "metadata": {},
   "outputs": [],
   "source": [
    "#\n",
    "# 看 server 所回應的 response message 訊息\n",
    "#\n",
    "\n",
    "print(res, '\\n')       # 看一下回應狀態碼"
   ]
  },
  {
   "cell_type": "code",
   "execution_count": null,
   "metadata": {},
   "outputs": [],
   "source": [
    "print(type(res), '\\n') # 看一下回應物件型別"
   ]
  },
  {
   "cell_type": "code",
   "execution_count": null,
   "metadata": {},
   "outputs": [],
   "source": [
    "print(dir(res), '\\n')  # 看一下回應物件所提供的方法與屬性     "
   ]
  },
  {
   "cell_type": "code",
   "execution_count": null,
   "metadata": {},
   "outputs": [],
   "source": [
    "print(res.text)        # 看一下回應物件的網頁原始碼"
   ]
  },
  {
   "cell_type": "code",
   "execution_count": null,
   "metadata": {},
   "outputs": [],
   "source": [
    "import pandas as pd\n",
    "\n",
    "# \n",
    "# 使用 Pandas 的 read_html 方法來讀取 web server 所傳回的 webpage 物件內容。  \n",
    "# 進一步利用 Pandas DataFrame 資料結構，讀取網頁上的表格(Table)資料，\n",
    "# 並且使用 Pandas DataFrame 所提供的方法(Method)，進行簡單的資料整理。\n",
    "#\n",
    "table = pd.read_html(res.text)\n",
    "\n",
    "#\n",
    "# 看一下 table 的資料型別\n",
    "#\n",
    "print(type(table), '\\n')\n",
    "\n",
    "#\n",
    "# 看一下有幾個表格\n",
    "#\n",
    "print('找出 %02d 個表格' % len(table))"
   ]
  },
  {
   "cell_type": "code",
   "execution_count": null,
   "metadata": {},
   "outputs": [],
   "source": [
    "df = table[0]  # 看一下第一個表格內容\n",
    "\n",
    "df"
   ]
  },
  {
   "cell_type": "markdown",
   "metadata": {},
   "source": [
    "### df.columns.droplevel() – 從一個多層次的行索引下降一級 [[1]](https://www.w3resource.com/pandas/series/series-droplevel.php) [[2]](https://www.w3schools.com/python/pandas/ref_df_droplevel.asp)"
   ]
  },
  {
   "cell_type": "code",
   "execution_count": null,
   "metadata": {},
   "outputs": [],
   "source": [
    "#\n",
    "# 從一個多層次的行索引下降一級\n",
    "#\n",
    "df.columns = df.columns.droplevel()\n",
    "\n",
    "df  # 列印內容"
   ]
  },
  {
   "cell_type": "markdown",
   "metadata": {},
   "source": [
    "### 刪除不必要的欄位 [[1]](https://nabi.104.com.tw/posts/nabi_post_553abb88-d8db-4afc-bb1f-7535e3a86c55) [[2]](https://vimsky.com/zh-tw/examples/usage/python-pandas.DataFrame.drop.html)"
   ]
  },
  {
   "cell_type": "code",
   "execution_count": null,
   "metadata": {},
   "outputs": [],
   "source": [
    "#\n",
    "# 在水平方向(axis=1)找尋 'Unnamed: 6_level_1'、'Unnamed: 7_level_1'、\n",
    "# 'Unnamed: 8_level_1' 等三個欄位名稱，再做刪除欄位動作，\n",
    "# 即為刪除整個 columns (垂直方向)的內容。\n",
    "#\n",
    "df = df.drop('Unnamed: 6_level_1', axis = 1)\n",
    "df = df.drop('Unnamed: 7_level_1', axis = 1)\n",
    "df = df.drop('Unnamed: 8_level_1', axis = 1)\n",
    "\n",
    "df"
   ]
  },
  {
   "cell_type": "markdown",
   "metadata": {},
   "source": [
    "### 根據目前表格內的資料來重新制定表格欄位的名稱"
   ]
  },
  {
   "cell_type": "code",
   "execution_count": null,
   "metadata": {},
   "outputs": [],
   "source": [
    "#\n",
    "# 自行定義新的欄位結構與名稱\n",
    "#\n",
    "df.columns = ['掛牌日期', '幣別', '現金匯率:本行買入', '現金匯率:本行賣出', '即期匯率:本行買入', '即期匯率:本行賣出']"
   ]
  },
  {
   "cell_type": "code",
   "execution_count": null,
   "metadata": {},
   "outputs": [],
   "source": [
    "#\n",
    "# DataFrame 的索引值重設並改成從 1 開始排序\n",
    "#\n",
    "df.index += 1\n",
    "\n",
    "df"
   ]
  },
  {
   "cell_type": "markdown",
   "metadata": {},
   "source": [
    "### 如何調整 Pandas DataFrame 可以顯示的行（欄位）數與列（記錄）數 \n",
    "- ### pandas.set_option 的使用 [[官網]](https://pandas.pydata.org/docs/reference/api/pandas.set_option.html#pandas.set_option) [[2]](https://coderzcolumn.com/tutorials/python/simple-guide-to-set-pandas-options-to-better-display-dataframes) [[3]](https://leemeng.tw/practical-pandas-tutorial-for-aspiring-data-scientists.html)"
   ]
  },
  {
   "cell_type": "code",
   "execution_count": null,
   "metadata": {},
   "outputs": [],
   "source": [
    "pd.set_option('display.min_rows', 30)          # 顯示全部的紀錄的前 15 筆與最後的 15 筆紀錄與內容\n",
    "\n",
    "#pd.set_option('display.max_rows', None)       # 顯示全部列 (row) 的紀錄 (record) 與內容\n",
    "\n",
    "#pd.set_option('display.max_columns', None)    # 顯示全部欄 (column) 的欄位 (field) 與內容"
   ]
  },
  {
   "cell_type": "code",
   "execution_count": null,
   "metadata": {
    "scrolled": true
   },
   "outputs": [],
   "source": [
    "#\n",
    "# 用 notebook 內建方式列印出來看\n",
    "#\n",
    "df  "
   ]
  },
  {
   "cell_type": "code",
   "execution_count": null,
   "metadata": {},
   "outputs": [],
   "source": [
    "#\n",
    "# 用 Python 內建方式列印出來看，注意：此法為在 .py 程式中唯一的列印方法\n",
    "#\n",
    "print(df)"
   ]
  },
  {
   "cell_type": "markdown",
   "metadata": {},
   "source": [
    "### 補充：<br><br>1. tabulate 套件使用方法 [[1]](https://pypi.org/project/tabulate/) [[2]](https://fasionchan.com/python/libs/tabulate/) [[3]](https://walkonnet.com/archives/50203) <br><br>2. wcwidth 套件使用方法 [[1]](https://pypi.org/project/wcwidth/) [[2]](https://www.twblogs.net/a/5d08ec00bd9eee1e5c812fb2) [[3]](https://ithelp.ithome.com.tw/articles/10222522)"
   ]
  },
  {
   "cell_type": "code",
   "execution_count": null,
   "metadata": {},
   "outputs": [],
   "source": [
    "# 若本機未裝 tabulate 套件，則即刻下載並裝此套件，此套件為美化表格數據輸出結果\n",
    "!pip install tabulate\n",
    "\n",
    "# 若本機未裝 wcwidth 套件，則即刻下載並裝此套件，此套件為解決中文對齊問題\n",
    "!pip install wcwidth\n",
    "\n",
    "from tabulate import tabulate\n",
    "\n",
    "print('\\n\\n')\n",
    "\n",
    "#print(tabulate(df))\n",
    "\n",
    "#print(tabulate(df, headers = 'keys'))\n",
    "\n",
    "print(tabulate(df, headers = 'keys', tablefmt = 'fancy_grid'))"
   ]
  }
 ],
 "metadata": {
  "kernelspec": {
   "display_name": "Python 3 (ipykernel)",
   "language": "python",
   "name": "python3"
  },
  "language_info": {
   "codemirror_mode": {
    "name": "ipython",
    "version": 3
   },
   "file_extension": ".py",
   "mimetype": "text/x-python",
   "name": "python",
   "nbconvert_exporter": "python",
   "pygments_lexer": "ipython3",
   "version": "3.9.13"
  }
 },
 "nbformat": 4,
 "nbformat_minor": 2
}
