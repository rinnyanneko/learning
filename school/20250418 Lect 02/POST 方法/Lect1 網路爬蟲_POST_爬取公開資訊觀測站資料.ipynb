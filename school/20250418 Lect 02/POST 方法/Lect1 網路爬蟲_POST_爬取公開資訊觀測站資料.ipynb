{
 "cells": [
  {
   "cell_type": "markdown",
   "metadata": {},
   "source": [
    "## 使用 POST 方法來爬取公開資訊觀測站上的財務報表\n",
    "### <p style=\"line-height:1.6em;\" align=\"justify;\">本範例欲爬的目標網站：[公開資訊觀測站](https://mops.twse.com.tw/mops/web/index) （[ 公開資訊觀測站→彙總報表→財務報表→綜合損益表](https://mops.twse.com.tw/mops/#/web/t163sb04)）</p>"
   ]
  },
  {
   "cell_type": "code",
   "execution_count": null,
   "metadata": {},
   "outputs": [],
   "source": [
    "#\n",
    "# 可以去掉 Python 輸出時，因為軟體版本所引起的警告的警告。\n",
    "#\n",
    "import warnings\n",
    "\n",
    "warnings.filterwarnings('ignore')"
   ]
  },
  {
   "cell_type": "markdown",
   "metadata": {},
   "source": [
    "###  認識 HTML, CSS, DOM, JavaScript [[1]](https://medium.com/mr-efacani-teatime/%E4%BA%94%E5%88%86%E9%90%98%E8%AA%8D%E8%AD%98css-html-js-2527e3b4ce6e) [[2]](https://5xruby.tw/posts/what-is-html-css-javascript) [[3]](http://blog.ywpu.me/2015/01/21-xmlhtmlxhtmldhtmlhtml-dom.html) [[4*]](https://ithelp.ithome.com.tw/articles/10202326) [[w3school 自學教材]](https://www.w3schools.com/) [[video]](https://www.youtube.com/watch?v=uDgA8yyCnHo&t=1s&ab_channel=%E5%9B%BE%E7%81%B5%E6%98%9F%E7%90%83TuringPlanet)\n",
    "###  認識 AJAX [[1]](http://www.w3big.com/zh-TW/ajax/ajax-intro.html#gsc.tab=0) [[2]](https://tw.alphacamp.co/blog/ajax-asynchronous-request) [[3]](https://developer.mozilla.org/zh-TW/docs/Web/Guide/AJAX) [[4]](https://linyencheng.github.io/2022/09/22/relationships-between-frontend-and-backend/js-http-client-with-ajax/) [[5]](https://www.youtube.com/watch?v=OkphAk_cWPM) [[6]](https://www.fansysoft.com/web/tw/competency-ajax.tiles) [[7*]](https://blog.tonycube.com/2009/03/ajax.html) [[8*]](https://cs.gmu.edu/~uprapham/classes/swe432/supplement/basic-ajax.html)\n",
    "<img align=\"middle\" src=\"pic/ajax.png\" width=\"380\"/>"
   ]
  },
  {
   "cell_type": "code",
   "execution_count": null,
   "metadata": {},
   "outputs": [],
   "source": [
    "import requests\n",
    "\n",
    "#\n",
    "# 以下 payload 內的 TYPEK, year, season等欄位內容需要做適當設定，說明如下：\n",
    "# TYPEK(市場別) : 'sii'(上市)，'otc'(上櫃)，'rotc'(興櫃)，'pub'(公開發行)\n",
    "# year(年度)：以國曆年度為輸入內容\n",
    "# season(季別)：'01', '02', '03', '04' (第一季至第四季中任選擇一，字串中的'0'不可少)\n",
    "#\n",
    "payload = {\n",
    "    'encodeURIComponent':'1',\n",
    "    'step':'1',\n",
    "    'firstin':'1',\n",
    "    'off':'1',\n",
    "    'isQuery':'Y',\n",
    "    'TYPEK':'sii',\n",
    "    'year':'114',\n",
    "    'season':'01'\n",
    "}\n",
    "\n",
    "\n",
    "# \n",
    "# 使用者自訂 http browser request header 中的 user-agent 內容\n",
    "#\n",
    "headers = { 'User-Agent': 'Mozilla/5.0 (Windows NT 10.0; Win64; x64) ,\\\n",
    "            AppleWebKit/537.36 (KHTML, like Gecko) Chrome/95.0.4638.54 Safari/537.36'}\n",
    "\n",
    "#\n",
    "# 以下為 \"公開資訊觀測站→彙總報表→財務報表→採用IFRSs後→綜合損益表\" 的網頁網址\n",
    "#\n",
    "url_address = 'https://mopsov.twse.com.tw/mops/web/ajax_t163sb04' \n",
    "\n",
    "\n",
    "#\n",
    "# 使用 post 方法\n",
    "#\n",
    "res_post = requests.post(url_address, data = payload,  headers = headers)   \n",
    "\n",
    "\n",
    "#\n",
    "# 為了能夠順利讓網頁中的中文字正確的呈現出來\n",
    "#\n",
    "res_post.encoding = 'utf-8'  \n",
    "\n",
    "print(res_post.text)"
   ]
  },
  {
   "cell_type": "markdown",
   "metadata": {},
   "source": [
    "### **用 BeautifulSoup 來剖析並取出所有表格**"
   ]
  },
  {
   "cell_type": "code",
   "execution_count": null,
   "metadata": {},
   "outputs": [],
   "source": [
    "from bs4 import BeautifulSoup\n",
    "\n",
    "soup = BeautifulSoup(res_post.text, 'html.parser')\n",
    "\n",
    "#\n",
    "# 其 html 標籤為 <table class='hasBorder'>...</table>\n",
    "#\n",
    "_tables = soup.select(\"table[class='hasBorder']\")  \n",
    "\n",
    "print('總共有 %d 個表格！\\n' % len(_tables))  # 顯示有多少個表格\n",
    "\n",
    "#print(find_all_tables)"
   ]
  },
  {
   "cell_type": "code",
   "execution_count": null,
   "metadata": {},
   "outputs": [],
   "source": [
    "type(_tables)  # ResultSet class is a subclass of a list and not a Tag class"
   ]
  },
  {
   "cell_type": "code",
   "execution_count": null,
   "metadata": {},
   "outputs": [],
   "source": [
    "_tables"
   ]
  },
  {
   "cell_type": "markdown",
   "metadata": {},
   "source": [
    "### **用 Pandas 資料科學套件來讀取爬出的表格**"
   ]
  },
  {
   "cell_type": "code",
   "execution_count": null,
   "metadata": {},
   "outputs": [],
   "source": [
    "import pandas as pd\n",
    "\n",
    "tables = pd.read_html(str(_tables))\n",
    "\n",
    "print('總共有 %d 個表格！\\n' % len(tables)) # 顯示有多少個表格\n",
    "\n",
    "print(tables)"
   ]
  },
  {
   "cell_type": "markdown",
   "metadata": {},
   "source": [
    "### **試著依序讀出所抓取的表格，並看一下每一個表格**"
   ]
  },
  {
   "cell_type": "code",
   "execution_count": null,
   "metadata": {},
   "outputs": [],
   "source": [
    "df = tables[0]\n",
    "df"
   ]
  },
  {
   "cell_type": "code",
   "execution_count": null,
   "metadata": {},
   "outputs": [],
   "source": [
    "tables[1]"
   ]
  },
  {
   "cell_type": "code",
   "execution_count": null,
   "metadata": {},
   "outputs": [],
   "source": [
    "tables[2]"
   ]
  },
  {
   "cell_type": "code",
   "execution_count": null,
   "metadata": {},
   "outputs": [],
   "source": [
    "tables[3]"
   ]
  },
  {
   "cell_type": "code",
   "execution_count": null,
   "metadata": {},
   "outputs": [],
   "source": [
    "tables[4]"
   ]
  },
  {
   "cell_type": "code",
   "execution_count": null,
   "metadata": {},
   "outputs": [],
   "source": [
    "tables[5]"
   ]
  },
  {
   "cell_type": "markdown",
   "metadata": {},
   "source": [
    "### **將第三個表格內容取出來放入 Pandas DataFrame 內，並看一下表格上有哪一些欄位**** "
   ]
  },
  {
   "cell_type": "code",
   "execution_count": null,
   "metadata": {},
   "outputs": [],
   "source": [
    "for name in tables[2].columns:\n",
    "    \n",
    "    print(name)"
   ]
  },
  {
   "cell_type": "markdown",
   "metadata": {},
   "source": [
    "### **將索引值 index 起始值從預設的整數值 0 改從整數 1  開始**"
   ]
  },
  {
   "cell_type": "code",
   "execution_count": null,
   "metadata": {},
   "outputs": [],
   "source": [
    "df = pd.DataFrame(tables[2])\n",
    "\n",
    "df.index += 1\n",
    "\n",
    "df  # 顯示 df 表格"
   ]
  },
  {
   "cell_type": "markdown",
   "metadata": {},
   "source": [
    "### Pandas Getting and setting options [[1]](https://pandas.pydata.org/pandas-docs/stable/reference/api/pandas.set_option.html), [[2]](https://pandas.pydata.org/pandas-docs/stable/user_guide/options.html)"
   ]
  },
  {
   "cell_type": "code",
   "execution_count": null,
   "metadata": {},
   "outputs": [],
   "source": [
    "# Note: 更改 DataFrame 顯示的設定\n",
    "# display.[line_width, max_categories, max_columns, max_colwidth, \n",
    "# max_info_columns, max_info_rows, max_rows, max_seq_items, memory_usage, multi_sparse, \n",
    "# notebook_repr_html, pprint_nest_depth, precision, show_dimensions]\n",
    "\n",
    "pd.set_option('display.min_rows', 60)\n",
    "\n",
    "pd.set_option('display.max_columns', len(tables[2].columns))\n",
    "\n",
    "#pd.set_option('display.width', 1000)\n",
    "\n",
    "df  # 顯示 df 表格"
   ]
  }
 ],
 "metadata": {
  "kernelspec": {
   "display_name": "Python 3 (ipykernel)",
   "language": "python",
   "name": "python3"
  },
  "language_info": {
   "codemirror_mode": {
    "name": "ipython",
    "version": 3
   },
   "file_extension": ".py",
   "mimetype": "text/x-python",
   "name": "python",
   "nbconvert_exporter": "python",
   "pygments_lexer": "ipython3",
   "version": "3.9.13"
  }
 },
 "nbformat": 4,
 "nbformat_minor": 2
}
