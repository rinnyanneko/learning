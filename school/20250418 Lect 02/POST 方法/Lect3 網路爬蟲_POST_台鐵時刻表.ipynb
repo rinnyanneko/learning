{
 "cells": [
  {
   "cell_type": "markdown",
   "metadata": {},
   "source": [
    "## 使用 POST 方法來爬取台鐵的時刻表\n",
    "### 本範例欲爬的目標網站：[列車時刻 / 車次查詢](https://www.railway.gov.tw/tra-tip-web/tip/tip001/tip112/gobytime)"
   ]
  },
  {
   "cell_type": "code",
   "execution_count": null,
   "metadata": {},
   "outputs": [],
   "source": [
    "#\n",
    "# 可以去掉 Python 輸出時，因為軟體版本所引起的警告的警告。\n",
    "#\n",
    "import warnings\n",
    "\n",
    "warnings.filterwarnings('ignore')"
   ]
  },
  {
   "cell_type": "code",
   "execution_count": null,
   "metadata": {},
   "outputs": [],
   "source": [
    "import requests\n",
    "\n",
    "#\n",
    "# 注意！注意！：執行本範例所選定的時刻表日期 (rideDate) \n",
    "#              一定要今天或之後才會有資料抓得下來\n",
    "#\n",
    "payload = {    \n",
    "    '_csrf':'e7666daa-56a6-41b9-aba1-34141ed8e04b',\n",
    "    'startStation':'0930-七堵',\n",
    "    'endStation':'4220-臺南',\n",
    "    'transfer':'ONE',\n",
    "    'rideDate':'2025/07/01',\n",
    "    'startOrEndTime':'true',\n",
    "    'startTime':'00:00',\n",
    "    'endTime':'23:59',\n",
    "    'trainTypeList':'ALL',\n",
    "    'query':'查詢'\n",
    "}\n",
    "\n",
    "\n",
    "#\n",
    "# 使用者自訂 http browser request header 中的 user-agent 內容\n",
    "#\n",
    "headers = { \n",
    "            'User-Agent': 'Mozilla/5.0 (Windows NT 10.0; Win64; x64) \\\n",
    "             AppleWebKit/537.36 (KHTML, like Gecko) Chrome/95.0.4638.54 Safari/537.36'\n",
    "          } \n",
    "\n",
    "\n",
    "url_address = 'https://www.railway.gov.tw/tra-tip-web/tip/tip001/tip112/querybytime'\n",
    "\n",
    "\n",
    "res_post = requests.post( url_address, \n",
    "                          data = payload, \n",
    "                          headers = headers ) \n",
    "\n",
    "\n",
    "res_post.encoding = 'utf-8'  # 為了能夠順利讓網頁中的中文字正確的呈現出來\n",
    "\n",
    "print(res_post.text)  # 看一下爬取下來網頁的內容"
   ]
  },
  {
   "cell_type": "markdown",
   "metadata": {},
   "source": [
    "### **剖析網頁內容，瞭解要抓的表格在哪裡**"
   ]
  },
  {
   "cell_type": "code",
   "execution_count": null,
   "metadata": {},
   "outputs": [],
   "source": [
    "from bs4 import BeautifulSoup\n",
    "\n",
    "soup = BeautifulSoup(res_post.text, 'html.parser')\n",
    "\n",
    "#\n",
    "# 表格標籤特徵為 <table class=\"itinerary-controls\">\n",
    "#\n",
    "tables = soup.select('table[class = \"itinerary-controls\"]')    # 寫法一\n",
    "\n",
    "tables = soup.select('#pageContent > div > table.itinerary-controls')   # 寫法二 CSS Selecter\n",
    "\n",
    "#tables = soup.select('#pageContent > div > table')   # 這個 CSS Selecter 寫法會抓不出正確的表格\n",
    "\n",
    "print('\\n共掃出 %d 個表格！\\n' % len(tables))"
   ]
  },
  {
   "cell_type": "markdown",
   "metadata": {},
   "source": [
    "### **用 Pandas 資料科學套件來讀取爬出的表格**"
   ]
  },
  {
   "cell_type": "code",
   "execution_count": null,
   "metadata": {},
   "outputs": [],
   "source": [
    "!pip install  html5lib"
   ]
  },
  {
   "cell_type": "code",
   "execution_count": null,
   "metadata": {},
   "outputs": [],
   "source": [
    "import pandas as pd\n",
    "\n",
    "tables = pd.read_html(str(tables))  # 需要先裝 html5lib 套件\n",
    "\n",
    "print('\\n共掃出 %d 個表格！\\n' % len(tables))"
   ]
  },
  {
   "cell_type": "markdown",
   "metadata": {},
   "source": [
    "### **看一下前三個表格與最後倒數的三個表格**"
   ]
  },
  {
   "cell_type": "code",
   "execution_count": null,
   "metadata": {},
   "outputs": [],
   "source": [
    "tables[0]   # 以本例來看，只有這一個表格是我們要的   "
   ]
  },
  {
   "cell_type": "code",
   "execution_count": null,
   "metadata": {},
   "outputs": [],
   "source": [
    "tables[1]"
   ]
  },
  {
   "cell_type": "code",
   "execution_count": null,
   "metadata": {},
   "outputs": [],
   "source": [
    "tables[2]"
   ]
  },
  {
   "cell_type": "code",
   "execution_count": null,
   "metadata": {},
   "outputs": [],
   "source": [
    "tables[3]"
   ]
  },
  {
   "cell_type": "code",
   "execution_count": null,
   "metadata": {},
   "outputs": [],
   "source": [
    "tables[-3]"
   ]
  },
  {
   "cell_type": "code",
   "execution_count": null,
   "metadata": {},
   "outputs": [],
   "source": [
    "tables[-2]"
   ]
  },
  {
   "cell_type": "code",
   "execution_count": null,
   "metadata": {},
   "outputs": [],
   "source": [
    "tables[-1]"
   ]
  },
  {
   "cell_type": "markdown",
   "metadata": {},
   "source": [
    "### **看一下目標表格（時刻表）上有哪一些欄位**"
   ]
  },
  {
   "cell_type": "code",
   "execution_count": null,
   "metadata": {},
   "outputs": [],
   "source": [
    "for name in tables[0].columns:\n",
    "    \n",
    "    print(name)"
   ]
  },
  {
   "cell_type": "markdown",
   "metadata": {},
   "source": [
    "### **選擇特定欄位內的資料寫入最後結果的表格內**"
   ]
  },
  {
   "cell_type": "code",
   "execution_count": null,
   "metadata": {},
   "outputs": [],
   "source": [
    "#\n",
    "# 修改 Pandas 顯示設定\n",
    "#\n",
    "pd.set_option('display.max.columns', 20)\n",
    "\n",
    "\n",
    "#\n",
    "# 顯示全部\n",
    "#\n",
    "pd.set_option('display.max.rows', None)"
   ]
  },
  {
   "cell_type": "code",
   "execution_count": null,
   "metadata": {},
   "outputs": [],
   "source": [
    "#column_fields = ['車種車次 (始發站 → 終點站)', '出發時間', '抵達時間', '行駛時間', '經由', '全票', '孩童票']\n",
    "\n",
    "column_fields = tables[0].columns[:9]\n",
    "\n",
    "df1 = pd.DataFrame( \n",
    "                   tables[0], \n",
    "                   columns = column_fields\n",
    "                  ) \n",
    "\n",
    "#\n",
    "# 調整最後表格的索引值由 1 開始，而不是依預設值從 0 開始 \n",
    "#\n",
    "df1.index += 1\n",
    "\n",
    "\n",
    "#\n",
    "# 顯示 df1 表格\n",
    "#\n",
    "df1  "
   ]
  },
  {
   "cell_type": "markdown",
   "metadata": {},
   "source": [
    "### **抽出所要的表格內容**"
   ]
  },
  {
   "cell_type": "code",
   "execution_count": null,
   "metadata": {},
   "outputs": [],
   "source": [
    "df2 = pd.DataFrame(columns = column_fields) \n",
    "\n",
    "# \n",
    "# 設定此例中要隔幾個 rows 來取車次的目標資料\n",
    "#\n",
    "jump_rows = 5\n",
    "\n",
    "\n",
    "#\n",
    "# 台鐵時刻表表格的最後一個索引值再加一\n",
    "#\n",
    "print('df1.index.stop = ', df1.index.stop)\n",
    "\n",
    "\n",
    "for i in range(1, df1.index.stop, jump_rows):\n",
    "    \n",
    "    #\n",
    "    # concate row(a series object) to the dataframe\n",
    "    #    \n",
    "   \n",
    "    tmp = pd.DataFrame(df1.loc[i]).transpose()\n",
    "    \n",
    "    df2 = pd.concat( [df2, tmp], ignore_index = True)\n",
    "    \n",
    "    #\n",
    "    # 或直接用以下的這一行替換上述的二行，但是 dataframe.append() \n",
    "    # 方法以後就會汰換掉，所以要改成 dataframe.concat()\n",
    "    #\n",
    "    #df2 = df2.append(df1.loc[i,:] , ignore_index = True)\n",
    "\n",
    "    \n",
    "#\n",
    "# 調整最後表格的索引值由 1 開始，而不是依預設值從 0 開始    \n",
    "#\n",
    "df2.index += 1 \n",
    "\n",
    "#df1.iloc[0, :]\n",
    "\n",
    "#\n",
    "# 顯示 df2 表格\n",
    "#\n",
    "df2  "
   ]
  }
 ],
 "metadata": {
  "kernelspec": {
   "display_name": "Python 3 (ipykernel)",
   "language": "python",
   "name": "python3"
  },
  "language_info": {
   "codemirror_mode": {
    "name": "ipython",
    "version": 3
   },
   "file_extension": ".py",
   "mimetype": "text/x-python",
   "name": "python",
   "nbconvert_exporter": "python",
   "pygments_lexer": "ipython3",
   "version": "3.9.13"
  }
 },
 "nbformat": 4,
 "nbformat_minor": 2
}
